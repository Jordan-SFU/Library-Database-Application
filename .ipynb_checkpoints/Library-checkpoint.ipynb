{
 "cells": [
  {
   "cell_type": "code",
   "execution_count": 5,
   "id": "214f864b-3e30-4b54-a169-2d528e26d1ac",
   "metadata": {},
   "outputs": [
    {
     "data": {
      "text/html": [
       "<span style=\"None\">displaylimit: Value None will be treated as 0 (no limit)</span>"
      ],
      "text/plain": [
       "displaylimit: Value None will be treated as 0 (no limit)"
      ]
     },
     "metadata": {},
     "output_type": "display_data"
    }
   ],
   "source": [
    "%load_ext sql\n",
    "%config SqlMagic.displaylimit = None"
   ]
  },
  {
   "cell_type": "code",
   "execution_count": 7,
   "id": "e8355c0d-3bb5-48f9-9fb4-2f1e90760860",
   "metadata": {},
   "outputs": [
    {
     "data": {
      "text/html": [
       "<span style=\"None\">Connecting to &#x27;sqlite:///library.db&#x27;</span>"
      ],
      "text/plain": [
       "Connecting to 'sqlite:///library.db'"
      ]
     },
     "metadata": {},
     "output_type": "display_data"
    }
   ],
   "source": [
    "%sql sqlite:///library.db"
   ]
  },
  {
   "cell_type": "code",
   "execution_count": 157,
   "id": "83b68024-db2f-44ce-81f2-afb8a2b16c32",
   "metadata": {},
   "outputs": [
    {
     "data": {
      "text/html": [
       "<span style=\"None\">Running query in &#x27;sqlite:///library.db&#x27;</span>"
      ],
      "text/plain": [
       "Running query in 'sqlite:///library.db'"
      ]
     },
     "metadata": {},
     "output_type": "display_data"
    },
    {
     "data": {
      "text/html": [
       "<table>\n",
       "    <thead>\n",
       "        <tr>\n",
       "        </tr>\n",
       "    </thead>\n",
       "    <tbody>\n",
       "    </tbody>\n",
       "</table>"
      ],
      "text/plain": [
       "++\n",
       "||\n",
       "++\n",
       "++"
      ]
     },
     "execution_count": 157,
     "metadata": {},
     "output_type": "execute_result"
    }
   ],
   "source": [
    "%%sql\n",
    "DROP TABLE IF EXISTS Branch;\n",
    "CREATE TABLE IF NOT EXISTS Branch (\n",
    "    branch_id INTEGER PRIMARY KEY,\n",
    "    phone TEXT\n",
    ");"
   ]
  },
  {
   "cell_type": "code",
   "execution_count": 159,
   "id": "e35edccd-515f-4ef3-9d68-a5f95089f96f",
   "metadata": {},
   "outputs": [
    {
     "data": {
      "text/html": [
       "<span style=\"None\">Running query in &#x27;sqlite:///library.db&#x27;</span>"
      ],
      "text/plain": [
       "Running query in 'sqlite:///library.db'"
      ]
     },
     "metadata": {},
     "output_type": "display_data"
    },
    {
     "data": {
      "text/html": [
       "<table>\n",
       "    <thead>\n",
       "        <tr>\n",
       "        </tr>\n",
       "    </thead>\n",
       "    <tbody>\n",
       "    </tbody>\n",
       "</table>"
      ],
      "text/plain": [
       "++\n",
       "||\n",
       "++\n",
       "++"
      ]
     },
     "execution_count": 159,
     "metadata": {},
     "output_type": "execute_result"
    }
   ],
   "source": [
    "%%sql\n",
    "DROP TABLE IF EXISTS Customer;\n",
    "CREATE TABLE IF NOT EXISTS Customer (\n",
    "    cust_id INTEGER PRIMARY KEY,\n",
    "    first_name TEXT,\n",
    "    last_name TEXT,\n",
    "    email TEXT,\n",
    "    phone TEXT,\n",
    "    membership_status TEXT CHECK (membership_status IN ('Active', 'Suspended')) DEFAULT 'Active'\n",
    ");"
   ]
  },
  {
   "cell_type": "code",
   "execution_count": 161,
   "id": "e6ea0fb1-52d4-4e55-a08b-dc23610dfa5d",
   "metadata": {},
   "outputs": [
    {
     "data": {
      "text/html": [
       "<span style=\"None\">Running query in &#x27;sqlite:///library.db&#x27;</span>"
      ],
      "text/plain": [
       "Running query in 'sqlite:///library.db'"
      ]
     },
     "metadata": {},
     "output_type": "display_data"
    },
    {
     "data": {
      "text/html": [
       "<table>\n",
       "    <thead>\n",
       "        <tr>\n",
       "        </tr>\n",
       "    </thead>\n",
       "    <tbody>\n",
       "    </tbody>\n",
       "</table>"
      ],
      "text/plain": [
       "++\n",
       "||\n",
       "++\n",
       "++"
      ]
     },
     "execution_count": 161,
     "metadata": {},
     "output_type": "execute_result"
    }
   ],
   "source": [
    "%%sql\n",
    "DROP TABLE IF EXISTS Employee;\n",
    "CREATE TABLE IF NOT EXISTS Employee (\n",
    "    employee_id INTEGER PRIMARY KEY,\n",
    "    branch_id INTEGER,\n",
    "    first_name TEXT,\n",
    "    last_name TEXT,\n",
    "    role TEXT CHECK (role IN ('Librarian', 'Assistant', 'Event Coordinator', 'Volunteer')),\n",
    "    email TEXT,\n",
    "    phone TEXT,\n",
    "    FOREIGN KEY (branch_id) REFERENCES Branch(branch_id)\n",
    ");"
   ]
  },
  {
   "cell_type": "code",
   "execution_count": 163,
   "id": "c38806d9-d5ea-41dc-a7bf-c3578276f23c",
   "metadata": {},
   "outputs": [
    {
     "data": {
      "text/html": [
       "<span style=\"None\">Running query in &#x27;sqlite:///library.db&#x27;</span>"
      ],
      "text/plain": [
       "Running query in 'sqlite:///library.db'"
      ]
     },
     "metadata": {},
     "output_type": "display_data"
    },
    {
     "data": {
      "text/html": [
       "<table>\n",
       "    <thead>\n",
       "        <tr>\n",
       "        </tr>\n",
       "    </thead>\n",
       "    <tbody>\n",
       "    </tbody>\n",
       "</table>"
      ],
      "text/plain": [
       "++\n",
       "||\n",
       "++\n",
       "++"
      ]
     },
     "execution_count": 163,
     "metadata": {},
     "output_type": "execute_result"
    }
   ],
   "source": [
    "%%sql\n",
    "DROP TABLE IF EXISTS Room;\n",
    "CREATE TABLE IF NOT EXISTS Room (\n",
    "    room_id INTEGER PRIMARY KEY,\n",
    "    branch_id INTEGER,\n",
    "    location TEXT,\n",
    "    capacity INTEGER CHECK (capacity > 0),\n",
    "    FOREIGN KEY (branch_id) REFERENCES Branch(branch_id)\n",
    ");"
   ]
  },
  {
   "cell_type": "code",
   "execution_count": 165,
   "id": "791b83e8-d683-4d77-88a8-2b6108532c6d",
   "metadata": {},
   "outputs": [
    {
     "data": {
      "text/html": [
       "<span style=\"None\">Running query in &#x27;sqlite:///library.db&#x27;</span>"
      ],
      "text/plain": [
       "Running query in 'sqlite:///library.db'"
      ]
     },
     "metadata": {},
     "output_type": "display_data"
    },
    {
     "data": {
      "text/html": [
       "<table>\n",
       "    <thead>\n",
       "        <tr>\n",
       "        </tr>\n",
       "    </thead>\n",
       "    <tbody>\n",
       "    </tbody>\n",
       "</table>"
      ],
      "text/plain": [
       "++\n",
       "||\n",
       "++\n",
       "++"
      ]
     },
     "execution_count": 165,
     "metadata": {},
     "output_type": "execute_result"
    }
   ],
   "source": [
    "%%sql\n",
    "DROP TABLE IF EXISTS Item;\n",
    "CREATE TABLE IF NOT EXISTS Item (\n",
    "    item_id INTEGER PRIMARY KEY,\n",
    "    title TEXT,\n",
    "    author TEXT,\n",
    "    type TEXT CHECK (type IN ('Print', 'Online', 'Magazine', 'Journal', 'CD', 'Record')),\n",
    "    branch_id INTEGER,\n",
    "    status TEXT CHECK (status IN ('Available', 'Borrowed', 'Reserved', 'Pending')),\n",
    "    dewey_decimal TEXT,\n",
    "    borrow_date DATE,\n",
    "    due_date DATE,\n",
    "    FOREIGN KEY (branch_id) REFERENCES Branch(branch_id)\n",
    ");"
   ]
  },
  {
   "cell_type": "code",
   "execution_count": 167,
   "id": "4539bf7f-da5a-47ea-8a16-8a27895371fb",
   "metadata": {},
   "outputs": [
    {
     "data": {
      "text/html": [
       "<span style=\"None\">Running query in &#x27;sqlite:///library.db&#x27;</span>"
      ],
      "text/plain": [
       "Running query in 'sqlite:///library.db'"
      ]
     },
     "metadata": {},
     "output_type": "display_data"
    },
    {
     "data": {
      "text/html": [
       "<table>\n",
       "    <thead>\n",
       "        <tr>\n",
       "        </tr>\n",
       "    </thead>\n",
       "    <tbody>\n",
       "    </tbody>\n",
       "</table>"
      ],
      "text/plain": [
       "++\n",
       "||\n",
       "++\n",
       "++"
      ]
     },
     "execution_count": 167,
     "metadata": {},
     "output_type": "execute_result"
    }
   ],
   "source": [
    "%%sql\n",
    "DROP TABLE IF EXISTS Borrowed;\n",
    "CREATE TABLE IF NOT EXISTS Borrowed (\n",
    "    cust_id INTEGER,\n",
    "    item_id INTEGER PRIMARY KEY,\n",
    "    FOREIGN KEY (cust_id) REFERENCES Customer(cust_id),\n",
    "    FOREIGN KEY (item_id) REFERENCES Item(item_id)\n",
    ");"
   ]
  },
  {
   "cell_type": "code",
   "execution_count": 169,
   "id": "801b0ee7-2e11-4a96-88a5-abe08ee4e4c5",
   "metadata": {},
   "outputs": [
    {
     "data": {
      "text/html": [
       "<span style=\"None\">Running query in &#x27;sqlite:///library.db&#x27;</span>"
      ],
      "text/plain": [
       "Running query in 'sqlite:///library.db'"
      ]
     },
     "metadata": {},
     "output_type": "display_data"
    },
    {
     "data": {
      "text/html": [
       "<table>\n",
       "    <thead>\n",
       "        <tr>\n",
       "        </tr>\n",
       "    </thead>\n",
       "    <tbody>\n",
       "    </tbody>\n",
       "</table>"
      ],
      "text/plain": [
       "++\n",
       "||\n",
       "++\n",
       "++"
      ]
     },
     "execution_count": 169,
     "metadata": {},
     "output_type": "execute_result"
    }
   ],
   "source": [
    "%%sql\n",
    "DROP TABLE IF EXISTS Fine;\n",
    "CREATE TABLE IF NOT EXISTS Fine (\n",
    "    fine_id INTEGER PRIMARY KEY AUTOINCREMENT,\n",
    "    cust_id INTEGER,\n",
    "    item_id INTEGER,\n",
    "    amount FLOAT CHECK (amount >= 0),\n",
    "    paid_status BOOLEAN DEFAULT 0,\n",
    "    FOREIGN KEY (cust_id) REFERENCES Customer(cust_id),\n",
    "    FOREIGN KEY (item_id) REFERENCES Item(item_id)\n",
    ");"
   ]
  },
  {
   "cell_type": "code",
   "execution_count": 171,
   "id": "b8c87bbf-5e62-40db-873e-3b0182053111",
   "metadata": {},
   "outputs": [
    {
     "data": {
      "text/html": [
       "<span style=\"None\">Running query in &#x27;sqlite:///library.db&#x27;</span>"
      ],
      "text/plain": [
       "Running query in 'sqlite:///library.db'"
      ]
     },
     "metadata": {},
     "output_type": "display_data"
    },
    {
     "data": {
      "text/html": [
       "<table>\n",
       "    <thead>\n",
       "        <tr>\n",
       "        </tr>\n",
       "    </thead>\n",
       "    <tbody>\n",
       "    </tbody>\n",
       "</table>"
      ],
      "text/plain": [
       "++\n",
       "||\n",
       "++\n",
       "++"
      ]
     },
     "execution_count": 171,
     "metadata": {},
     "output_type": "execute_result"
    }
   ],
   "source": [
    "%%sql\n",
    "DROP TABLE IF EXISTS Event;\n",
    "CREATE TABLE IF NOT EXISTS Event (\n",
    "    event_id INTEGER PRIMARY KEY,\n",
    "    room_id INTEGER,\n",
    "    branch_id INTEGER,\n",
    "    event_name TEXT,\n",
    "    event_type TEXT,\n",
    "    date DATE,\n",
    "    time TIME,\n",
    "    recommended_audience TEXT,\n",
    "    FOREIGN KEY (room_id) REFERENCES Room(room_id),\n",
    "    FOREIGN KEY (branch_id) REFERENCES Branch(branch_id)\n",
    ");"
   ]
  },
  {
   "cell_type": "code",
   "execution_count": 173,
   "id": "baaa9bde-c6ed-4ea7-aa96-801ff20e7b00",
   "metadata": {},
   "outputs": [
    {
     "data": {
      "text/html": [
       "<span style=\"None\">Running query in &#x27;sqlite:///library.db&#x27;</span>"
      ],
      "text/plain": [
       "Running query in 'sqlite:///library.db'"
      ]
     },
     "metadata": {},
     "output_type": "display_data"
    },
    {
     "data": {
      "text/html": [
       "<table>\n",
       "    <thead>\n",
       "        <tr>\n",
       "        </tr>\n",
       "    </thead>\n",
       "    <tbody>\n",
       "    </tbody>\n",
       "</table>"
      ],
      "text/plain": [
       "++\n",
       "||\n",
       "++\n",
       "++"
      ]
     },
     "execution_count": 173,
     "metadata": {},
     "output_type": "execute_result"
    }
   ],
   "source": [
    "%%sql\n",
    "DROP TABLE IF EXISTS Registered;\n",
    "CREATE TABLE IF NOT EXISTS Registered (\n",
    "    cust_id INTEGER,\n",
    "    event_id INTEGER,\n",
    "    PRIMARY KEY (cust_id, event_id),\n",
    "    FOREIGN KEY (cust_id) REFERENCES Customer(cust_id),\n",
    "    FOREIGN KEY (event_id) REFERENCES Event(event_id)\n",
    ");"
   ]
  },
  {
   "cell_type": "code",
   "execution_count": 175,
   "id": "03cea4e3-1c81-42bd-acf6-b27ba4896eb8",
   "metadata": {},
   "outputs": [
    {
     "data": {
      "text/html": [
       "<span style=\"None\">Running query in &#x27;sqlite:///library.db&#x27;</span>"
      ],
      "text/plain": [
       "Running query in 'sqlite:///library.db'"
      ]
     },
     "metadata": {},
     "output_type": "display_data"
    },
    {
     "data": {
      "text/html": [
       "<table>\n",
       "    <thead>\n",
       "        <tr>\n",
       "        </tr>\n",
       "    </thead>\n",
       "    <tbody>\n",
       "    </tbody>\n",
       "</table>"
      ],
      "text/plain": [
       "++\n",
       "||\n",
       "++\n",
       "++"
      ]
     },
     "execution_count": 175,
     "metadata": {},
     "output_type": "execute_result"
    }
   ],
   "source": [
    "%%sql\n",
    "DROP TRIGGER IF EXISTS set_item_borrowed;\n",
    "CREATE TRIGGER set_item_borrowed\n",
    "AFTER INSERT ON Borrowed\n",
    "FOR EACH ROW\n",
    "BEGIN\n",
    "    UPDATE Item\n",
    "    SET \n",
    "        status = 'Borrowed',\n",
    "        borrow_date = DATE('now'),\n",
    "        due_date = DATE('now', '+14 days')\n",
    "    WHERE item_id = NEW.item_id;\n",
    "END;"
   ]
  },
  {
   "cell_type": "code",
   "execution_count": 177,
   "id": "3964f707-c553-40d7-8d11-5f6b336c6e99",
   "metadata": {},
   "outputs": [
    {
     "data": {
      "text/html": [
       "<span style=\"None\">Running query in &#x27;sqlite:///library.db&#x27;</span>"
      ],
      "text/plain": [
       "Running query in 'sqlite:///library.db'"
      ]
     },
     "metadata": {},
     "output_type": "display_data"
    },
    {
     "data": {
      "text/html": [
       "<table>\n",
       "    <thead>\n",
       "        <tr>\n",
       "        </tr>\n",
       "    </thead>\n",
       "    <tbody>\n",
       "    </tbody>\n",
       "</table>"
      ],
      "text/plain": [
       "++\n",
       "||\n",
       "++\n",
       "++"
      ]
     },
     "execution_count": 177,
     "metadata": {},
     "output_type": "execute_result"
    }
   ],
   "source": [
    "%%sql\n",
    "DROP TRIGGER IF EXISTS process_return_and_fine;\n",
    "CREATE TRIGGER process_return_and_fine\n",
    "AFTER DELETE ON Borrowed\n",
    "FOR EACH ROW\n",
    "BEGIN\n",
    "    INSERT INTO Fine (cust_id, item_id, amount, paid_status)\n",
    "    SELECT \n",
    "        OLD.cust_id, \n",
    "        OLD.item_id, \n",
    "        10.00, \n",
    "        0\n",
    "    WHERE (SELECT due_date FROM Item WHERE item_id = OLD.item_id) < DATE('now');\n",
    "\n",
    "    UPDATE Item\n",
    "    SET \n",
    "        status = 'Available',\n",
    "        borrow_date = NULL,\n",
    "        due_date = NULL\n",
    "    WHERE item_id = OLD.item_id;\n",
    "END;"
   ]
  },
  {
   "cell_type": "code",
   "execution_count": 179,
   "id": "e558f930-58af-4c7d-8fb2-c028553786ae",
   "metadata": {},
   "outputs": [
    {
     "data": {
      "text/html": [
       "<span style=\"None\">Running query in &#x27;sqlite:///library.db&#x27;</span>"
      ],
      "text/plain": [
       "Running query in 'sqlite:///library.db'"
      ]
     },
     "metadata": {},
     "output_type": "display_data"
    },
    {
     "data": {
      "text/html": [
       "<table>\n",
       "    <thead>\n",
       "        <tr>\n",
       "        </tr>\n",
       "    </thead>\n",
       "    <tbody>\n",
       "    </tbody>\n",
       "</table>"
      ],
      "text/plain": [
       "++\n",
       "||\n",
       "++\n",
       "++"
      ]
     },
     "execution_count": 179,
     "metadata": {},
     "output_type": "execute_result"
    }
   ],
   "source": [
    "%%sql\n",
    "DROP TRIGGER IF EXISTS check_membership_status;\n",
    "CREATE TRIGGER check_membership_status\n",
    "BEFORE INSERT ON Borrowed\n",
    "FOR EACH ROW\n",
    "BEGIN\n",
    "    SELECT CASE\n",
    "        WHEN (SELECT membership_status FROM Customer WHERE cust_id = NEW.cust_id) != 'Active'\n",
    "        THEN RAISE(ABORT, 'Customer must be Active to borrow items')\n",
    "    END;\n",
    "END;"
   ]
  },
  {
   "cell_type": "code",
   "execution_count": 181,
   "id": "0092497b-ba39-492c-a9bc-d8003a160f21",
   "metadata": {},
   "outputs": [
    {
     "data": {
      "text/html": [
       "<span style=\"None\">Running query in &#x27;sqlite:///library.db&#x27;</span>"
      ],
      "text/plain": [
       "Running query in 'sqlite:///library.db'"
      ]
     },
     "metadata": {},
     "output_type": "display_data"
    },
    {
     "data": {
      "text/html": [
       "<table>\n",
       "    <thead>\n",
       "        <tr>\n",
       "        </tr>\n",
       "    </thead>\n",
       "    <tbody>\n",
       "    </tbody>\n",
       "</table>"
      ],
      "text/plain": [
       "++\n",
       "||\n",
       "++\n",
       "++"
      ]
     },
     "execution_count": 181,
     "metadata": {},
     "output_type": "execute_result"
    }
   ],
   "source": [
    "%%sql\n",
    "DROP TRIGGER IF EXISTS update_membership_status;\n",
    "CREATE TRIGGER update_membership_status\n",
    "AFTER INSERT ON Fine\n",
    "FOR EACH ROW\n",
    "BEGIN\n",
    "    UPDATE Customer\n",
    "    SET membership_status = 'Suspended'\n",
    "    WHERE cust_id = NEW.cust_id\n",
    "    AND (SELECT COUNT(*) FROM Fine WHERE cust_id = NEW.cust_id AND paid_status = 0) >= 3;\n",
    "END;"
   ]
  },
  {
   "cell_type": "code",
   "execution_count": 183,
   "id": "17eadc7a-1d3c-49be-a4f0-85cd56739a63",
   "metadata": {},
   "outputs": [
    {
     "data": {
      "text/html": [
       "<span style=\"None\">Running query in &#x27;sqlite:///library.db&#x27;</span>"
      ],
      "text/plain": [
       "Running query in 'sqlite:///library.db'"
      ]
     },
     "metadata": {},
     "output_type": "display_data"
    },
    {
     "data": {
      "text/html": [
       "<table>\n",
       "    <thead>\n",
       "        <tr>\n",
       "        </tr>\n",
       "    </thead>\n",
       "    <tbody>\n",
       "    </tbody>\n",
       "</table>"
      ],
      "text/plain": [
       "++\n",
       "||\n",
       "++\n",
       "++"
      ]
     },
     "execution_count": 183,
     "metadata": {},
     "output_type": "execute_result"
    }
   ],
   "source": [
    "%%sql\n",
    "DROP TRIGGER IF EXISTS check_event_capacity;\n",
    "CREATE TRIGGER check_event_capacity\n",
    "BEFORE INSERT ON Registered\n",
    "FOR EACH ROW\n",
    "BEGIN\n",
    "    SELECT CASE\n",
    "        WHEN ((SELECT COUNT(*) FROM Registered WHERE event_id = NEW.event_id) + 1) >\n",
    "        (SELECT capacity FROM Room JOIN Event ON Room.room_id = Event.room_id WHERE Event.event_id = NEW.event_id)\n",
    "        THEN RAISE(ABORT, 'Event has reached maximum capacity')\n",
    "    END;\n",
    "END;"
   ]
  },
  {
   "cell_type": "code",
   "execution_count": 187,
   "id": "f74efa66-115c-41d3-8558-7b4f95be1ee1",
   "metadata": {},
   "outputs": [
    {
     "data": {
      "text/html": [
       "<span style=\"None\">Running query in &#x27;sqlite:///library.db&#x27;</span>"
      ],
      "text/plain": [
       "Running query in 'sqlite:///library.db'"
      ]
     },
     "metadata": {},
     "output_type": "display_data"
    },
    {
     "data": {
      "text/html": [
       "<table>\n",
       "    <thead>\n",
       "        <tr>\n",
       "        </tr>\n",
       "    </thead>\n",
       "    <tbody>\n",
       "    </tbody>\n",
       "</table>"
      ],
      "text/plain": [
       "++\n",
       "||\n",
       "++\n",
       "++"
      ]
     },
     "execution_count": 187,
     "metadata": {},
     "output_type": "execute_result"
    }
   ],
   "source": [
    "%%sql\n",
    "DROP TRIGGER IF EXISTS update_membership_status_active;\n",
    "CREATE TRIGGER update_membership_status_active\n",
    "AFTER UPDATE ON Fine\n",
    "FOR EACH ROW\n",
    "BEGIN\n",
    "    UPDATE Customer\n",
    "    SET membership_status = 'Active'\n",
    "    WHERE cust_id = NEW.cust_id\n",
    "    AND (SELECT COUNT(*) FROM Fine WHERE cust_id = NEW.cust_id AND paid_status = 0) <= 3;\n",
    "END;"
   ]
  },
  {
   "cell_type": "code",
   "execution_count": 189,
   "id": "44c3476f-d624-46fc-97ae-b4a3a77f285f",
   "metadata": {},
   "outputs": [
    {
     "data": {
      "text/html": [
       "<span style=\"None\">Running query in &#x27;sqlite:///library.db&#x27;</span>"
      ],
      "text/plain": [
       "Running query in 'sqlite:///library.db'"
      ]
     },
     "metadata": {},
     "output_type": "display_data"
    },
    {
     "data": {
      "text/html": [
       "<table>\n",
       "    <thead>\n",
       "        <tr>\n",
       "        </tr>\n",
       "    </thead>\n",
       "    <tbody>\n",
       "    </tbody>\n",
       "</table>"
      ],
      "text/plain": [
       "++\n",
       "||\n",
       "++\n",
       "++"
      ]
     },
     "execution_count": 189,
     "metadata": {},
     "output_type": "execute_result"
    }
   ],
   "source": [
    "%%sql\n",
    "DROP TRIGGER IF EXISTS check_item_status;\n",
    "CREATE TRIGGER check_item_status\n",
    "BEFORE INSERT ON Borrowed\n",
    "FOR EACH ROW\n",
    "BEGIN\n",
    "    SELECT CASE\n",
    "        WHEN (SELECT status FROM Item WHERE item_id = NEW.item_id) != 'Available'\n",
    "        THEN RAISE(ABORT, 'Item not available for borrowing')\n",
    "    END;\n",
    "END;"
   ]
  },
  {
   "cell_type": "code",
   "execution_count": 195,
   "id": "948bccb3-e412-43bb-83ff-786a6bc2e702",
   "metadata": {},
   "outputs": [
    {
     "data": {
      "text/html": [
       "<span style=\"None\">Running query in &#x27;sqlite:///library.db&#x27;</span>"
      ],
      "text/plain": [
       "Running query in 'sqlite:///library.db'"
      ]
     },
     "metadata": {},
     "output_type": "display_data"
    },
    {
     "data": {
      "text/html": [
       "<span style=\"color: green\">10 rows affected.</span>"
      ],
      "text/plain": [
       "10 rows affected."
      ]
     },
     "metadata": {},
     "output_type": "display_data"
    },
    {
     "data": {
      "text/html": [
       "<table>\n",
       "    <thead>\n",
       "        <tr>\n",
       "        </tr>\n",
       "    </thead>\n",
       "    <tbody>\n",
       "    </tbody>\n",
       "</table>"
      ],
      "text/plain": [
       "++\n",
       "||\n",
       "++\n",
       "++"
      ]
     },
     "execution_count": 195,
     "metadata": {},
     "output_type": "execute_result"
    }
   ],
   "source": [
    "%%sql\n",
    "INSERT INTO Branch (branch_id, phone) VALUES\n",
    "(1, '555-0001'),\n",
    "(2, '555-0002'),\n",
    "(3, '555-0003'),\n",
    "(4, '555-0004'),\n",
    "(5, '555-0005'),\n",
    "(6, '555-0006'),\n",
    "(7, '555-0007'),\n",
    "(8, '555-0008'),\n",
    "(9, '555-0009'),\n",
    "(10, '555-0010');"
   ]
  },
  {
   "cell_type": "code",
   "execution_count": 197,
   "id": "1f6e3526-6fab-4895-9435-0a872ea7f457",
   "metadata": {},
   "outputs": [
    {
     "data": {
      "text/html": [
       "<span style=\"None\">Running query in &#x27;sqlite:///library.db&#x27;</span>"
      ],
      "text/plain": [
       "Running query in 'sqlite:///library.db'"
      ]
     },
     "metadata": {},
     "output_type": "display_data"
    },
    {
     "data": {
      "text/html": [
       "<span style=\"color: green\">10 rows affected.</span>"
      ],
      "text/plain": [
       "10 rows affected."
      ]
     },
     "metadata": {},
     "output_type": "display_data"
    },
    {
     "data": {
      "text/html": [
       "<table>\n",
       "    <thead>\n",
       "        <tr>\n",
       "        </tr>\n",
       "    </thead>\n",
       "    <tbody>\n",
       "    </tbody>\n",
       "</table>"
      ],
      "text/plain": [
       "++\n",
       "||\n",
       "++\n",
       "++"
      ]
     },
     "execution_count": 197,
     "metadata": {},
     "output_type": "execute_result"
    }
   ],
   "source": [
    "%%sql\n",
    "INSERT INTO Customer (cust_id, first_name, last_name, email, phone, membership_status) VALUES\n",
    "(1, 'John', 'Doe', 'john@example.com', '555-1001', 'Active'),\n",
    "(2, 'Jane', 'Smith', 'jane@example.com', '555-1002', 'Active'),\n",
    "(3, 'Bob', 'Johnson', 'bob@example.com', '555-1003', 'Active'),\n",
    "(4, 'Alice', 'Brown', 'alice@example.com', '555-1004', 'Active'),\n",
    "(5, 'Charlie', 'Davis', 'charlie@example.com', '555-1005', 'Active'),\n",
    "(6, 'Eve', 'Wilson', 'eve@example.com', '555-1006', 'Active'),\n",
    "(7, 'Frank', 'Moore', 'frank@example.com', '555-1007', 'Active'),\n",
    "(8, 'Grace', 'Taylor', 'grace@example.com', '555-1008', 'Active'),\n",
    "(9, 'Henry', 'Anderson', 'henry@example.com', '555-1009', 'Active'),\n",
    "(10, 'Ivy', 'Thomas', 'ivy@example.com', '555-1010', 'Active');"
   ]
  },
  {
   "cell_type": "code",
   "execution_count": 199,
   "id": "f99492ff-e8ba-4f74-9c88-0a08ccafd68e",
   "metadata": {},
   "outputs": [
    {
     "data": {
      "text/html": [
       "<span style=\"None\">Running query in &#x27;sqlite:///library.db&#x27;</span>"
      ],
      "text/plain": [
       "Running query in 'sqlite:///library.db'"
      ]
     },
     "metadata": {},
     "output_type": "display_data"
    },
    {
     "data": {
      "text/html": [
       "<span style=\"color: green\">10 rows affected.</span>"
      ],
      "text/plain": [
       "10 rows affected."
      ]
     },
     "metadata": {},
     "output_type": "display_data"
    },
    {
     "data": {
      "text/html": [
       "<table>\n",
       "    <thead>\n",
       "        <tr>\n",
       "        </tr>\n",
       "    </thead>\n",
       "    <tbody>\n",
       "    </tbody>\n",
       "</table>"
      ],
      "text/plain": [
       "++\n",
       "||\n",
       "++\n",
       "++"
      ]
     },
     "execution_count": 199,
     "metadata": {},
     "output_type": "execute_result"
    }
   ],
   "source": [
    "%%sql\n",
    "INSERT INTO Employee (employee_id, branch_id, first_name, last_name, role, email, phone) VALUES\n",
    "(1, 1, 'Alice', 'Smith', 'Librarian', 'alice@library.com', '555-2001'),\n",
    "(2, 1, 'Bob', 'Jones', 'Assistant', 'bob@library.com', '555-2002'),\n",
    "(3, 2, 'Charlie', 'Brown', 'Event Coordinator', 'charlie@library.com', '555-2003'),\n",
    "(4, 2, 'Diana', 'Green', 'Volunteer', 'diana@library.com', '555-2004'),\n",
    "(5, 3, 'Evan', 'White', 'Librarian', 'evan@library.com', '555-2005'),\n",
    "(6, 3, 'Fiona', 'Black', 'Assistant', 'fiona@library.com', '555-2006'),\n",
    "(7, 4, 'George', 'King', 'Event Coordinator', 'george@library.com', '555-2007'),\n",
    "(8, 4, 'Hannah', 'Queen', 'Volunteer', 'hannah@library.com', '555-2008'),\n",
    "(9, 5, 'Ian', 'Prince', 'Librarian', 'ian@library.com', '555-2009'),\n",
    "(10, 5, 'Jill', 'Princess', 'Assistant', 'jill@library.com', '555-2010');"
   ]
  },
  {
   "cell_type": "code",
   "execution_count": 201,
   "id": "5536416a-4601-4046-877f-1a28f34fcd28",
   "metadata": {},
   "outputs": [
    {
     "data": {
      "text/html": [
       "<span style=\"None\">Running query in &#x27;sqlite:///library.db&#x27;</span>"
      ],
      "text/plain": [
       "Running query in 'sqlite:///library.db'"
      ]
     },
     "metadata": {},
     "output_type": "display_data"
    },
    {
     "data": {
      "text/html": [
       "<span style=\"color: green\">10 rows affected.</span>"
      ],
      "text/plain": [
       "10 rows affected."
      ]
     },
     "metadata": {},
     "output_type": "display_data"
    },
    {
     "data": {
      "text/html": [
       "<table>\n",
       "    <thead>\n",
       "        <tr>\n",
       "        </tr>\n",
       "    </thead>\n",
       "    <tbody>\n",
       "    </tbody>\n",
       "</table>"
      ],
      "text/plain": [
       "++\n",
       "||\n",
       "++\n",
       "++"
      ]
     },
     "execution_count": 201,
     "metadata": {},
     "output_type": "execute_result"
    }
   ],
   "source": [
    "%%sql\n",
    "INSERT INTO Room (room_id, branch_id, location, capacity) VALUES\n",
    "(1, 1, 'Floor 1, Room A', 30),\n",
    "(2, 1, 'Floor 2, Room B', 25),\n",
    "(3, 2, 'Main Hall', 50),\n",
    "(4, 3, 'Study Room 1', 20),\n",
    "(5, 4, 'Conference Room', 40),\n",
    "(6, 5, 'Media Room', 5),\n",
    "(7, 6, 'Quiet Zone', 30),\n",
    "(8, 7, 'Children Section', 25),\n",
    "(9, 8, 'Auditorium', 100),\n",
    "(10, 9, 'Seminar Room', 35);"
   ]
  },
  {
   "cell_type": "code",
   "execution_count": 205,
   "id": "790a57a4-0350-4f4e-9a1f-61329ca45b83",
   "metadata": {},
   "outputs": [
    {
     "data": {
      "text/html": [
       "<span style=\"None\">Running query in &#x27;sqlite:///library.db&#x27;</span>"
      ],
      "text/plain": [
       "Running query in 'sqlite:///library.db'"
      ]
     },
     "metadata": {},
     "output_type": "display_data"
    },
    {
     "data": {
      "text/html": [
       "<span style=\"color: green\">40 rows affected.</span>"
      ],
      "text/plain": [
       "40 rows affected."
      ]
     },
     "metadata": {},
     "output_type": "display_data"
    },
    {
     "data": {
      "text/html": [
       "<table>\n",
       "    <thead>\n",
       "        <tr>\n",
       "        </tr>\n",
       "    </thead>\n",
       "    <tbody>\n",
       "    </tbody>\n",
       "</table>"
      ],
      "text/plain": [
       "++\n",
       "||\n",
       "++\n",
       "++"
      ]
     },
     "execution_count": 205,
     "metadata": {},
     "output_type": "execute_result"
    }
   ],
   "source": [
    "%%sql\n",
    "INSERT INTO Item (item_id, title, author, type, branch_id, status, dewey_decimal) VALUES\n",
    "(1, 'The Great Novel', 'Author A', 'Print', 1, 'Available', '123.45'),\n",
    "(2, 'Science Today', 'Author B', 'Magazine', 2, 'Available', '234.56'),\n",
    "(3, 'History of Time', 'Author C', 'Journal', 3, 'Available', '345.67'),\n",
    "(4, 'Learn SQL', 'Author D', 'Online', 4, 'Available', '456.78'),\n",
    "(5, 'Music Classics', 'Author E', 'CD', 5, 'Available', '567.89'),\n",
    "(6, 'Art of Programming', 'Author F', 'Print', 1, 'Available', '678.90'),\n",
    "(7, 'National Geographic', 'Author G', 'Magazine', 2, 'Available', '789.01'),\n",
    "(8, 'Math Basics', 'Author H', 'Print', 3, 'Available', '890.12'),\n",
    "(9, 'Java Tutorial', 'Author I', 'Online', 4, 'Available', '901.23'),\n",
    "(10, 'Rock Hits', 'Author J', 'Record', 5, 'Available', '012.34'),\n",
    "(11, 'To Kill a Mockingbird', 'Harper Lee', 'Print', 1, 'Available', '813.54'),\n",
    "(12, '1984', 'George Orwell', 'Print', 2, 'Available', '823.912'),\n",
    "(13, 'The Great Gatsby', 'F. Scott Fitzgerald', 'Print', 3, 'Available', '813.52'),\n",
    "(14, 'Pride and Prejudice', 'Jane Austen', 'Print', 4, 'Available', '823.7'),\n",
    "(15, 'The Hobbit', 'J.R.R. Tolkien', 'Print', 5, 'Available', '823.912'),\n",
    "(16, 'The Catcher in the Rye', 'J.D. Salinger', 'Print', 1, 'Available', '813.54'),\n",
    "(17, 'Animal Farm', 'George Orwell', 'Print', 2, 'Available', '823.912'),\n",
    "(18, 'Brave New World', 'Aldous Huxley', 'Print', 3, 'Available', '823.912'),\n",
    "(19, 'The Lord of the Rings', 'J.R.R. Tolkien', 'Print', 4, 'Available', '823.912'),\n",
    "(20, 'The Chronicles of Narnia', 'C.S. Lewis', 'Print', 5, 'Available', '823.912'),\n",
    "(21, 'Fahrenheit 451', 'Ray Bradbury', 'Print', 1, 'Available', '813.54'),\n",
    "(22, 'The Grapes of Wrath', 'John Steinbeck', 'Print', 2, 'Available', '813.52'),\n",
    "(23, 'Moby Dick', 'Herman Melville', 'Print', 3, 'Available', '813.3'),\n",
    "(24, 'War and Peace', 'Leo Tolstoy', 'Print', 4, 'Available', '891.73'),\n",
    "(25, 'The Odyssey', 'Homer', 'Print', 5, 'Available', '883.01'),\n",
    "(26, 'Crime and Punishment', 'Fyodor Dostoevsky', 'Print', 1, 'Pending', '891.73'),\n",
    "(27, 'The Brothers Karamazov', 'Fyodor Dostoevsky', 'Print', 2, 'Pending', '891.73'),\n",
    "(28, 'Anna Karenina', 'Leo Tolstoy', 'Print', 3, 'Pending', '891.73'),\n",
    "(29, 'The Divine Comedy', 'Dante Alighieri', 'Print', 4, 'Pending', '851.1'),\n",
    "(30, 'Les Misérables', 'Victor Hugo', 'Print', 5, 'Pending', '843.7'),\n",
    "(31, 'Don Quixote', 'Miguel de Cervantes', 'Print', 1, 'Available', '863'),\n",
    "(32, 'The Picture of Dorian Gray', 'Oscar Wilde', 'Print', 2, 'Available', '823.8'),\n",
    "(33, 'Wuthering Heights', 'Emily Brontë', 'Print', 3, 'Available', '823.8'),\n",
    "(34, 'Jane Eyre', 'Charlotte Brontë', 'Print', 4, 'Available', '823.8'),\n",
    "(35, 'Great Expectations', 'Charles Dickens', 'Print', 5, 'Available', '823.8'),\n",
    "(36, 'The Count of Monte Cristo', 'Alexandre Dumas', 'Print', 1, 'Available', '843.7'),\n",
    "(37, 'Frankenstein', 'Mary Shelley', 'Print', 2, 'Available', '823.7'),\n",
    "(38, 'Dracula', 'Bram Stoker', 'Print', 3, 'Available', '823.8'),\n",
    "(39, 'The Adventures of Huckleberry Finn', 'Mark Twain', 'Print', 4, 'Available', '813.4'),\n",
    "(40, 'The Scarlet Letter', 'Nathaniel Hawthorne', 'Print', 5, 'Available', '813.3');"
   ]
  },
  {
   "cell_type": "code",
   "execution_count": 235,
   "id": "62a3b44a-22c3-41e3-a05d-8762f9706435",
   "metadata": {},
   "outputs": [
    {
     "data": {
      "text/html": [
       "<span style=\"None\">Running query in &#x27;sqlite:///library.db&#x27;</span>"
      ],
      "text/plain": [
       "Running query in 'sqlite:///library.db'"
      ]
     },
     "metadata": {},
     "output_type": "display_data"
    },
    {
     "data": {
      "text/html": [
       "<span style=\"color: green\">10 rows affected.</span>"
      ],
      "text/plain": [
       "10 rows affected."
      ]
     },
     "metadata": {},
     "output_type": "display_data"
    },
    {
     "data": {
      "text/html": [
       "<span style=\"color: green\">5 rows affected.</span>"
      ],
      "text/plain": [
       "5 rows affected."
      ]
     },
     "metadata": {},
     "output_type": "display_data"
    },
    {
     "data": {
      "text/html": [
       "<span style=\"color: green\">5 rows affected.</span>"
      ],
      "text/plain": [
       "5 rows affected."
      ]
     },
     "metadata": {},
     "output_type": "display_data"
    },
    {
     "data": {
      "text/html": [
       "<span style=\"color: green\">5 rows affected.</span>"
      ],
      "text/plain": [
       "5 rows affected."
      ]
     },
     "metadata": {},
     "output_type": "display_data"
    },
    {
     "data": {
      "text/html": [
       "<span style=\"color: green\">5 rows affected.</span>"
      ],
      "text/plain": [
       "5 rows affected."
      ]
     },
     "metadata": {},
     "output_type": "display_data"
    },
    {
     "data": {
      "text/html": [
       "<span style=\"color: green\">5 rows affected.</span>"
      ],
      "text/plain": [
       "5 rows affected."
      ]
     },
     "metadata": {},
     "output_type": "display_data"
    },
    {
     "data": {
      "text/html": [
       "<span style=\"color: green\">5 rows affected.</span>"
      ],
      "text/plain": [
       "5 rows affected."
      ]
     },
     "metadata": {},
     "output_type": "display_data"
    },
    {
     "data": {
      "text/html": [
       "<table>\n",
       "    <thead>\n",
       "        <tr>\n",
       "        </tr>\n",
       "    </thead>\n",
       "    <tbody>\n",
       "    </tbody>\n",
       "</table>"
      ],
      "text/plain": [
       "++\n",
       "||\n",
       "++\n",
       "++"
      ]
     },
     "execution_count": 235,
     "metadata": {},
     "output_type": "execute_result"
    }
   ],
   "source": [
    "%%sql\n",
    "    DELETE FROM Borrowed;\n",
    "    DELETE FROM Fine;\n",
    "    UPDATE Customer SET membership_status = 'Active';\n",
    "INSERT INTO Borrowed (cust_id, item_id) VALUES\n",
    "(1, 1),\n",
    "(1, 2),\n",
    "(1, 3),\n",
    "(4, 4),\n",
    "(5, 5);\n",
    "UPDATE Item SET due_date = '2023-01-01' WHERE item_id IN (1, 2, 3, 4, 5);\n",
    "DELETE FROM Borrowed WHERE item_id IN (1, 2, 3, 4, 5);\n",
    "\n",
    "INSERT INTO Borrowed (cust_id, item_id) VALUES\n",
    "(4, 6),\n",
    "(5, 7),\n",
    "(3, 8),\n",
    "(2, 9),\n",
    "(7, 10);\n",
    "UPDATE Item SET due_date = '2023-01-01' WHERE item_id IN (6, 7, 8, 9, 10);\n",
    "DELETE FROM Borrowed WHERE item_id IN (6, 7, 8, 9, 10);"
   ]
  },
  {
   "cell_type": "code",
   "execution_count": 217,
   "id": "1c574c14-6527-4d86-8df7-aa6a68cbae81",
   "metadata": {},
   "outputs": [
    {
     "data": {
      "text/html": [
       "<span style=\"None\">Running query in &#x27;sqlite:///library.db&#x27;</span>"
      ],
      "text/plain": [
       "Running query in 'sqlite:///library.db'"
      ]
     },
     "metadata": {},
     "output_type": "display_data"
    },
    {
     "data": {
      "text/html": [
       "<span style=\"color: green\">10 rows affected.</span>"
      ],
      "text/plain": [
       "10 rows affected."
      ]
     },
     "metadata": {},
     "output_type": "display_data"
    },
    {
     "data": {
      "text/html": [
       "<table>\n",
       "    <thead>\n",
       "        <tr>\n",
       "        </tr>\n",
       "    </thead>\n",
       "    <tbody>\n",
       "    </tbody>\n",
       "</table>"
      ],
      "text/plain": [
       "++\n",
       "||\n",
       "++\n",
       "++"
      ]
     },
     "execution_count": 217,
     "metadata": {},
     "output_type": "execute_result"
    }
   ],
   "source": [
    "%%sql\n",
    "INSERT INTO Event (event_id, room_id, branch_id, event_name, event_type, date, time, recommended_audience) VALUES\n",
    "(1, 1, 1, 'Book Club', 'Literary', '2023-10-15', '14:00', 'Adults'),\n",
    "(2, 3, 2, 'Science Fair', 'Educational', '2023-10-16', '10:00', 'All Ages'),\n",
    "(3, 4, 3, 'Coding Workshop', 'Educational', '2023-10-17', '15:30', 'Teens'),\n",
    "(4, 5, 4, 'Art Class', 'Art', '2023-10-18', '11:00', 'Children'),\n",
    "(5, 6, 5, 'Music Concert', 'Entertainment', '2023-10-19', '18:00', 'All Ages'),\n",
    "(6, 7, 6, 'Lecture Series', 'Educational', '2023-10-20', '16:00', 'Adults'),\n",
    "(7, 8, 7, 'Story Time', 'Children', '2023-10-21', '10:30', 'Children'),\n",
    "(8, 9, 8, 'Film Screening', 'Entertainment', '2023-10-22', '19:00', 'Adults'),\n",
    "(9, 10, 9, 'Tech Talk', 'Educational', '2023-10-23', '13:00', 'Teens'),\n",
    "(10, 2, 1, 'Poetry Reading', 'Literary', '2023-10-24', '17:00', 'All Ages');"
   ]
  },
  {
   "cell_type": "code",
   "execution_count": 219,
   "id": "6c8b28b0-6b06-4786-9b20-af29938eb867",
   "metadata": {},
   "outputs": [
    {
     "data": {
      "text/html": [
       "<span style=\"None\">Running query in &#x27;sqlite:///library.db&#x27;</span>"
      ],
      "text/plain": [
       "Running query in 'sqlite:///library.db'"
      ]
     },
     "metadata": {},
     "output_type": "display_data"
    },
    {
     "data": {
      "text/html": [
       "<span style=\"color: green\">10 rows affected.</span>"
      ],
      "text/plain": [
       "10 rows affected."
      ]
     },
     "metadata": {},
     "output_type": "display_data"
    },
    {
     "data": {
      "text/html": [
       "<table>\n",
       "    <thead>\n",
       "        <tr>\n",
       "        </tr>\n",
       "    </thead>\n",
       "    <tbody>\n",
       "    </tbody>\n",
       "</table>"
      ],
      "text/plain": [
       "++\n",
       "||\n",
       "++\n",
       "++"
      ]
     },
     "execution_count": 219,
     "metadata": {},
     "output_type": "execute_result"
    }
   ],
   "source": [
    "%%sql\n",
    "INSERT INTO Registered (cust_id, event_id) VALUES\n",
    "(1, 1),\n",
    "(2, 2),\n",
    "(3, 3),\n",
    "(4, 4),\n",
    "(5, 5),\n",
    "(6, 6),\n",
    "(7, 7),\n",
    "(8, 8),\n",
    "(9, 9),\n",
    "(10, 10);"
   ]
  },
  {
   "cell_type": "code",
   "execution_count": 241,
   "id": "d06ef1e1-7ee9-459e-baf4-cde3cc043fbc",
   "metadata": {},
   "outputs": [
    {
     "data": {
      "text/html": [
       "<span style=\"None\">Running query in &#x27;sqlite:///library.db&#x27;</span>"
      ],
      "text/plain": [
       "Running query in 'sqlite:///library.db'"
      ]
     },
     "metadata": {},
     "output_type": "display_data"
    },
    {
     "data": {
      "text/html": [
       "<span style=\"color: green\">10 rows affected.</span>"
      ],
      "text/plain": [
       "10 rows affected."
      ]
     },
     "metadata": {},
     "output_type": "display_data"
    },
    {
     "data": {
      "text/html": [
       "<table>\n",
       "    <thead>\n",
       "        <tr>\n",
       "        </tr>\n",
       "    </thead>\n",
       "    <tbody>\n",
       "    </tbody>\n",
       "</table>"
      ],
      "text/plain": [
       "++\n",
       "||\n",
       "++\n",
       "++"
      ]
     },
     "execution_count": 241,
     "metadata": {},
     "output_type": "execute_result"
    }
   ],
   "source": [
    "%%sql\n",
    "INSERT INTO Borrowed VALUES\n",
    "    (6, 2),\n",
    "    (3, 7),\n",
    "    (3, 5),\n",
    "    (5, 3),\n",
    "    (3, 10),\n",
    "    (2, 1),\n",
    "    (4, 4),\n",
    "    (4, 6),\n",
    "    (5, 8),\n",
    "    (5, 9)"
   ]
  },
  {
   "cell_type": "code",
   "execution_count": 221,
   "id": "cefb0466-fa18-4374-83d0-4121f5f8de1c",
   "metadata": {
    "collapsed": true,
    "jupyter": {
     "outputs_hidden": true
    }
   },
   "outputs": [
    {
     "data": {
      "text/html": [
       "<span style=\"None\">Running query in &#x27;sqlite:///library.db&#x27;</span>"
      ],
      "text/plain": [
       "Running query in 'sqlite:///library.db'"
      ]
     },
     "metadata": {},
     "output_type": "display_data"
    },
    {
     "data": {
      "text/html": [
       "<table>\n",
       "    <thead>\n",
       "        <tr>\n",
       "            <th>item_id</th>\n",
       "            <th>title</th>\n",
       "            <th>author</th>\n",
       "            <th>type</th>\n",
       "            <th>branch_id</th>\n",
       "            <th>status</th>\n",
       "            <th>dewey_decimal</th>\n",
       "            <th>borrow_date</th>\n",
       "            <th>due_date</th>\n",
       "        </tr>\n",
       "    </thead>\n",
       "    <tbody>\n",
       "        <tr>\n",
       "            <td>1</td>\n",
       "            <td>The Great Novel</td>\n",
       "            <td>Author A</td>\n",
       "            <td>Print</td>\n",
       "            <td>1</td>\n",
       "            <td>Available</td>\n",
       "            <td>123.45</td>\n",
       "            <td>None</td>\n",
       "            <td>None</td>\n",
       "        </tr>\n",
       "        <tr>\n",
       "            <td>2</td>\n",
       "            <td>Science Today</td>\n",
       "            <td>Author B</td>\n",
       "            <td>Magazine</td>\n",
       "            <td>2</td>\n",
       "            <td>Available</td>\n",
       "            <td>234.56</td>\n",
       "            <td>None</td>\n",
       "            <td>None</td>\n",
       "        </tr>\n",
       "        <tr>\n",
       "            <td>3</td>\n",
       "            <td>History of Time</td>\n",
       "            <td>Author C</td>\n",
       "            <td>Journal</td>\n",
       "            <td>3</td>\n",
       "            <td>Available</td>\n",
       "            <td>345.67</td>\n",
       "            <td>None</td>\n",
       "            <td>None</td>\n",
       "        </tr>\n",
       "        <tr>\n",
       "            <td>4</td>\n",
       "            <td>Learn SQL</td>\n",
       "            <td>Author D</td>\n",
       "            <td>Online</td>\n",
       "            <td>4</td>\n",
       "            <td>Available</td>\n",
       "            <td>456.78</td>\n",
       "            <td>None</td>\n",
       "            <td>None</td>\n",
       "        </tr>\n",
       "        <tr>\n",
       "            <td>5</td>\n",
       "            <td>Music Classics</td>\n",
       "            <td>Author E</td>\n",
       "            <td>CD</td>\n",
       "            <td>5</td>\n",
       "            <td>Available</td>\n",
       "            <td>567.89</td>\n",
       "            <td>None</td>\n",
       "            <td>None</td>\n",
       "        </tr>\n",
       "        <tr>\n",
       "            <td>6</td>\n",
       "            <td>Art of Programming</td>\n",
       "            <td>Author F</td>\n",
       "            <td>Print</td>\n",
       "            <td>1</td>\n",
       "            <td>Available</td>\n",
       "            <td>678.90</td>\n",
       "            <td>None</td>\n",
       "            <td>None</td>\n",
       "        </tr>\n",
       "        <tr>\n",
       "            <td>7</td>\n",
       "            <td>National Geographic</td>\n",
       "            <td>Author G</td>\n",
       "            <td>Magazine</td>\n",
       "            <td>2</td>\n",
       "            <td>Available</td>\n",
       "            <td>789.01</td>\n",
       "            <td>None</td>\n",
       "            <td>None</td>\n",
       "        </tr>\n",
       "        <tr>\n",
       "            <td>8</td>\n",
       "            <td>Math Basics</td>\n",
       "            <td>Author H</td>\n",
       "            <td>Print</td>\n",
       "            <td>3</td>\n",
       "            <td>Available</td>\n",
       "            <td>890.12</td>\n",
       "            <td>None</td>\n",
       "            <td>None</td>\n",
       "        </tr>\n",
       "        <tr>\n",
       "            <td>9</td>\n",
       "            <td>Java Tutorial</td>\n",
       "            <td>Author I</td>\n",
       "            <td>Online</td>\n",
       "            <td>4</td>\n",
       "            <td>Available</td>\n",
       "            <td>901.23</td>\n",
       "            <td>None</td>\n",
       "            <td>None</td>\n",
       "        </tr>\n",
       "        <tr>\n",
       "            <td>10</td>\n",
       "            <td>Rock Hits</td>\n",
       "            <td>Author J</td>\n",
       "            <td>Record</td>\n",
       "            <td>5</td>\n",
       "            <td>Available</td>\n",
       "            <td>012.34</td>\n",
       "            <td>None</td>\n",
       "            <td>None</td>\n",
       "        </tr>\n",
       "        <tr>\n",
       "            <td>11</td>\n",
       "            <td>To Kill a Mockingbird</td>\n",
       "            <td>Harper Lee</td>\n",
       "            <td>Print</td>\n",
       "            <td>1</td>\n",
       "            <td>Available</td>\n",
       "            <td>813.54</td>\n",
       "            <td>None</td>\n",
       "            <td>None</td>\n",
       "        </tr>\n",
       "        <tr>\n",
       "            <td>12</td>\n",
       "            <td>1984</td>\n",
       "            <td>George Orwell</td>\n",
       "            <td>Print</td>\n",
       "            <td>2</td>\n",
       "            <td>Available</td>\n",
       "            <td>823.912</td>\n",
       "            <td>None</td>\n",
       "            <td>None</td>\n",
       "        </tr>\n",
       "        <tr>\n",
       "            <td>13</td>\n",
       "            <td>The Great Gatsby</td>\n",
       "            <td>F. Scott Fitzgerald</td>\n",
       "            <td>Print</td>\n",
       "            <td>3</td>\n",
       "            <td>Available</td>\n",
       "            <td>813.52</td>\n",
       "            <td>None</td>\n",
       "            <td>None</td>\n",
       "        </tr>\n",
       "        <tr>\n",
       "            <td>14</td>\n",
       "            <td>Pride and Prejudice</td>\n",
       "            <td>Jane Austen</td>\n",
       "            <td>Print</td>\n",
       "            <td>4</td>\n",
       "            <td>Available</td>\n",
       "            <td>823.7</td>\n",
       "            <td>None</td>\n",
       "            <td>None</td>\n",
       "        </tr>\n",
       "        <tr>\n",
       "            <td>15</td>\n",
       "            <td>The Hobbit</td>\n",
       "            <td>J.R.R. Tolkien</td>\n",
       "            <td>Print</td>\n",
       "            <td>5</td>\n",
       "            <td>Available</td>\n",
       "            <td>823.912</td>\n",
       "            <td>None</td>\n",
       "            <td>None</td>\n",
       "        </tr>\n",
       "        <tr>\n",
       "            <td>16</td>\n",
       "            <td>The Catcher in the Rye</td>\n",
       "            <td>J.D. Salinger</td>\n",
       "            <td>Print</td>\n",
       "            <td>1</td>\n",
       "            <td>Available</td>\n",
       "            <td>813.54</td>\n",
       "            <td>None</td>\n",
       "            <td>None</td>\n",
       "        </tr>\n",
       "        <tr>\n",
       "            <td>17</td>\n",
       "            <td>Animal Farm</td>\n",
       "            <td>George Orwell</td>\n",
       "            <td>Print</td>\n",
       "            <td>2</td>\n",
       "            <td>Available</td>\n",
       "            <td>823.912</td>\n",
       "            <td>None</td>\n",
       "            <td>None</td>\n",
       "        </tr>\n",
       "        <tr>\n",
       "            <td>18</td>\n",
       "            <td>Brave New World</td>\n",
       "            <td>Aldous Huxley</td>\n",
       "            <td>Print</td>\n",
       "            <td>3</td>\n",
       "            <td>Available</td>\n",
       "            <td>823.912</td>\n",
       "            <td>None</td>\n",
       "            <td>None</td>\n",
       "        </tr>\n",
       "        <tr>\n",
       "            <td>19</td>\n",
       "            <td>The Lord of the Rings</td>\n",
       "            <td>J.R.R. Tolkien</td>\n",
       "            <td>Print</td>\n",
       "            <td>4</td>\n",
       "            <td>Available</td>\n",
       "            <td>823.912</td>\n",
       "            <td>None</td>\n",
       "            <td>None</td>\n",
       "        </tr>\n",
       "        <tr>\n",
       "            <td>20</td>\n",
       "            <td>The Chronicles of Narnia</td>\n",
       "            <td>C.S. Lewis</td>\n",
       "            <td>Print</td>\n",
       "            <td>5</td>\n",
       "            <td>Available</td>\n",
       "            <td>823.912</td>\n",
       "            <td>None</td>\n",
       "            <td>None</td>\n",
       "        </tr>\n",
       "        <tr>\n",
       "            <td>21</td>\n",
       "            <td>Fahrenheit 451</td>\n",
       "            <td>Ray Bradbury</td>\n",
       "            <td>Print</td>\n",
       "            <td>1</td>\n",
       "            <td>Available</td>\n",
       "            <td>813.54</td>\n",
       "            <td>None</td>\n",
       "            <td>None</td>\n",
       "        </tr>\n",
       "        <tr>\n",
       "            <td>22</td>\n",
       "            <td>The Grapes of Wrath</td>\n",
       "            <td>John Steinbeck</td>\n",
       "            <td>Print</td>\n",
       "            <td>2</td>\n",
       "            <td>Available</td>\n",
       "            <td>813.52</td>\n",
       "            <td>None</td>\n",
       "            <td>None</td>\n",
       "        </tr>\n",
       "        <tr>\n",
       "            <td>23</td>\n",
       "            <td>Moby Dick</td>\n",
       "            <td>Herman Melville</td>\n",
       "            <td>Print</td>\n",
       "            <td>3</td>\n",
       "            <td>Available</td>\n",
       "            <td>813.3</td>\n",
       "            <td>None</td>\n",
       "            <td>None</td>\n",
       "        </tr>\n",
       "        <tr>\n",
       "            <td>24</td>\n",
       "            <td>War and Peace</td>\n",
       "            <td>Leo Tolstoy</td>\n",
       "            <td>Print</td>\n",
       "            <td>4</td>\n",
       "            <td>Available</td>\n",
       "            <td>891.73</td>\n",
       "            <td>None</td>\n",
       "            <td>None</td>\n",
       "        </tr>\n",
       "        <tr>\n",
       "            <td>25</td>\n",
       "            <td>The Odyssey</td>\n",
       "            <td>Homer</td>\n",
       "            <td>Print</td>\n",
       "            <td>5</td>\n",
       "            <td>Available</td>\n",
       "            <td>883.01</td>\n",
       "            <td>None</td>\n",
       "            <td>None</td>\n",
       "        </tr>\n",
       "        <tr>\n",
       "            <td>26</td>\n",
       "            <td>Crime and Punishment</td>\n",
       "            <td>Fyodor Dostoevsky</td>\n",
       "            <td>Print</td>\n",
       "            <td>1</td>\n",
       "            <td>Pending</td>\n",
       "            <td>891.73</td>\n",
       "            <td>None</td>\n",
       "            <td>None</td>\n",
       "        </tr>\n",
       "        <tr>\n",
       "            <td>27</td>\n",
       "            <td>The Brothers Karamazov</td>\n",
       "            <td>Fyodor Dostoevsky</td>\n",
       "            <td>Print</td>\n",
       "            <td>2</td>\n",
       "            <td>Pending</td>\n",
       "            <td>891.73</td>\n",
       "            <td>None</td>\n",
       "            <td>None</td>\n",
       "        </tr>\n",
       "        <tr>\n",
       "            <td>28</td>\n",
       "            <td>Anna Karenina</td>\n",
       "            <td>Leo Tolstoy</td>\n",
       "            <td>Print</td>\n",
       "            <td>3</td>\n",
       "            <td>Pending</td>\n",
       "            <td>891.73</td>\n",
       "            <td>None</td>\n",
       "            <td>None</td>\n",
       "        </tr>\n",
       "        <tr>\n",
       "            <td>29</td>\n",
       "            <td>The Divine Comedy</td>\n",
       "            <td>Dante Alighieri</td>\n",
       "            <td>Print</td>\n",
       "            <td>4</td>\n",
       "            <td>Pending</td>\n",
       "            <td>851.1</td>\n",
       "            <td>None</td>\n",
       "            <td>None</td>\n",
       "        </tr>\n",
       "        <tr>\n",
       "            <td>30</td>\n",
       "            <td>Les Misérables</td>\n",
       "            <td>Victor Hugo</td>\n",
       "            <td>Print</td>\n",
       "            <td>5</td>\n",
       "            <td>Pending</td>\n",
       "            <td>843.7</td>\n",
       "            <td>None</td>\n",
       "            <td>None</td>\n",
       "        </tr>\n",
       "        <tr>\n",
       "            <td>31</td>\n",
       "            <td>Don Quixote</td>\n",
       "            <td>Miguel de Cervantes</td>\n",
       "            <td>Print</td>\n",
       "            <td>1</td>\n",
       "            <td>Available</td>\n",
       "            <td>863</td>\n",
       "            <td>None</td>\n",
       "            <td>None</td>\n",
       "        </tr>\n",
       "        <tr>\n",
       "            <td>32</td>\n",
       "            <td>The Picture of Dorian Gray</td>\n",
       "            <td>Oscar Wilde</td>\n",
       "            <td>Print</td>\n",
       "            <td>2</td>\n",
       "            <td>Available</td>\n",
       "            <td>823.8</td>\n",
       "            <td>None</td>\n",
       "            <td>None</td>\n",
       "        </tr>\n",
       "        <tr>\n",
       "            <td>33</td>\n",
       "            <td>Wuthering Heights</td>\n",
       "            <td>Emily Brontë</td>\n",
       "            <td>Print</td>\n",
       "            <td>3</td>\n",
       "            <td>Available</td>\n",
       "            <td>823.8</td>\n",
       "            <td>None</td>\n",
       "            <td>None</td>\n",
       "        </tr>\n",
       "        <tr>\n",
       "            <td>34</td>\n",
       "            <td>Jane Eyre</td>\n",
       "            <td>Charlotte Brontë</td>\n",
       "            <td>Print</td>\n",
       "            <td>4</td>\n",
       "            <td>Available</td>\n",
       "            <td>823.8</td>\n",
       "            <td>None</td>\n",
       "            <td>None</td>\n",
       "        </tr>\n",
       "        <tr>\n",
       "            <td>35</td>\n",
       "            <td>Great Expectations</td>\n",
       "            <td>Charles Dickens</td>\n",
       "            <td>Print</td>\n",
       "            <td>5</td>\n",
       "            <td>Available</td>\n",
       "            <td>823.8</td>\n",
       "            <td>None</td>\n",
       "            <td>None</td>\n",
       "        </tr>\n",
       "        <tr>\n",
       "            <td>36</td>\n",
       "            <td>The Count of Monte Cristo</td>\n",
       "            <td>Alexandre Dumas</td>\n",
       "            <td>Print</td>\n",
       "            <td>1</td>\n",
       "            <td>Available</td>\n",
       "            <td>843.7</td>\n",
       "            <td>None</td>\n",
       "            <td>None</td>\n",
       "        </tr>\n",
       "        <tr>\n",
       "            <td>37</td>\n",
       "            <td>Frankenstein</td>\n",
       "            <td>Mary Shelley</td>\n",
       "            <td>Print</td>\n",
       "            <td>2</td>\n",
       "            <td>Available</td>\n",
       "            <td>823.7</td>\n",
       "            <td>None</td>\n",
       "            <td>None</td>\n",
       "        </tr>\n",
       "        <tr>\n",
       "            <td>38</td>\n",
       "            <td>Dracula</td>\n",
       "            <td>Bram Stoker</td>\n",
       "            <td>Print</td>\n",
       "            <td>3</td>\n",
       "            <td>Available</td>\n",
       "            <td>823.8</td>\n",
       "            <td>None</td>\n",
       "            <td>None</td>\n",
       "        </tr>\n",
       "        <tr>\n",
       "            <td>39</td>\n",
       "            <td>The Adventures of Huckleberry Finn</td>\n",
       "            <td>Mark Twain</td>\n",
       "            <td>Print</td>\n",
       "            <td>4</td>\n",
       "            <td>Available</td>\n",
       "            <td>813.4</td>\n",
       "            <td>None</td>\n",
       "            <td>None</td>\n",
       "        </tr>\n",
       "        <tr>\n",
       "            <td>40</td>\n",
       "            <td>The Scarlet Letter</td>\n",
       "            <td>Nathaniel Hawthorne</td>\n",
       "            <td>Print</td>\n",
       "            <td>5</td>\n",
       "            <td>Available</td>\n",
       "            <td>813.3</td>\n",
       "            <td>None</td>\n",
       "            <td>None</td>\n",
       "        </tr>\n",
       "    </tbody>\n",
       "</table>"
      ],
      "text/plain": [
       "+---------+------------------------------------+---------------------+----------+-----------+-----------+---------------+-------------+----------+\n",
       "| item_id |               title                |        author       |   type   | branch_id |   status  | dewey_decimal | borrow_date | due_date |\n",
       "+---------+------------------------------------+---------------------+----------+-----------+-----------+---------------+-------------+----------+\n",
       "|    1    |          The Great Novel           |       Author A      |  Print   |     1     | Available |     123.45    |     None    |   None   |\n",
       "|    2    |           Science Today            |       Author B      | Magazine |     2     | Available |     234.56    |     None    |   None   |\n",
       "|    3    |          History of Time           |       Author C      | Journal  |     3     | Available |     345.67    |     None    |   None   |\n",
       "|    4    |             Learn SQL              |       Author D      |  Online  |     4     | Available |     456.78    |     None    |   None   |\n",
       "|    5    |           Music Classics           |       Author E      |    CD    |     5     | Available |     567.89    |     None    |   None   |\n",
       "|    6    |         Art of Programming         |       Author F      |  Print   |     1     | Available |     678.90    |     None    |   None   |\n",
       "|    7    |        National Geographic         |       Author G      | Magazine |     2     | Available |     789.01    |     None    |   None   |\n",
       "|    8    |            Math Basics             |       Author H      |  Print   |     3     | Available |     890.12    |     None    |   None   |\n",
       "|    9    |           Java Tutorial            |       Author I      |  Online  |     4     | Available |     901.23    |     None    |   None   |\n",
       "|    10   |             Rock Hits              |       Author J      |  Record  |     5     | Available |     012.34    |     None    |   None   |\n",
       "|    11   |       To Kill a Mockingbird        |      Harper Lee     |  Print   |     1     | Available |     813.54    |     None    |   None   |\n",
       "|    12   |                1984                |    George Orwell    |  Print   |     2     | Available |    823.912    |     None    |   None   |\n",
       "|    13   |          The Great Gatsby          | F. Scott Fitzgerald |  Print   |     3     | Available |     813.52    |     None    |   None   |\n",
       "|    14   |        Pride and Prejudice         |     Jane Austen     |  Print   |     4     | Available |     823.7     |     None    |   None   |\n",
       "|    15   |             The Hobbit             |    J.R.R. Tolkien   |  Print   |     5     | Available |    823.912    |     None    |   None   |\n",
       "|    16   |       The Catcher in the Rye       |    J.D. Salinger    |  Print   |     1     | Available |     813.54    |     None    |   None   |\n",
       "|    17   |            Animal Farm             |    George Orwell    |  Print   |     2     | Available |    823.912    |     None    |   None   |\n",
       "|    18   |          Brave New World           |    Aldous Huxley    |  Print   |     3     | Available |    823.912    |     None    |   None   |\n",
       "|    19   |       The Lord of the Rings        |    J.R.R. Tolkien   |  Print   |     4     | Available |    823.912    |     None    |   None   |\n",
       "|    20   |      The Chronicles of Narnia      |      C.S. Lewis     |  Print   |     5     | Available |    823.912    |     None    |   None   |\n",
       "|    21   |           Fahrenheit 451           |     Ray Bradbury    |  Print   |     1     | Available |     813.54    |     None    |   None   |\n",
       "|    22   |        The Grapes of Wrath         |    John Steinbeck   |  Print   |     2     | Available |     813.52    |     None    |   None   |\n",
       "|    23   |             Moby Dick              |   Herman Melville   |  Print   |     3     | Available |     813.3     |     None    |   None   |\n",
       "|    24   |           War and Peace            |     Leo Tolstoy     |  Print   |     4     | Available |     891.73    |     None    |   None   |\n",
       "|    25   |            The Odyssey             |        Homer        |  Print   |     5     | Available |     883.01    |     None    |   None   |\n",
       "|    26   |        Crime and Punishment        |  Fyodor Dostoevsky  |  Print   |     1     |  Pending  |     891.73    |     None    |   None   |\n",
       "|    27   |       The Brothers Karamazov       |  Fyodor Dostoevsky  |  Print   |     2     |  Pending  |     891.73    |     None    |   None   |\n",
       "|    28   |           Anna Karenina            |     Leo Tolstoy     |  Print   |     3     |  Pending  |     891.73    |     None    |   None   |\n",
       "|    29   |         The Divine Comedy          |   Dante Alighieri   |  Print   |     4     |  Pending  |     851.1     |     None    |   None   |\n",
       "|    30   |           Les Misérables           |     Victor Hugo     |  Print   |     5     |  Pending  |     843.7     |     None    |   None   |\n",
       "|    31   |            Don Quixote             | Miguel de Cervantes |  Print   |     1     | Available |      863      |     None    |   None   |\n",
       "|    32   |     The Picture of Dorian Gray     |     Oscar Wilde     |  Print   |     2     | Available |     823.8     |     None    |   None   |\n",
       "|    33   |         Wuthering Heights          |     Emily Brontë    |  Print   |     3     | Available |     823.8     |     None    |   None   |\n",
       "|    34   |             Jane Eyre              |   Charlotte Brontë  |  Print   |     4     | Available |     823.8     |     None    |   None   |\n",
       "|    35   |         Great Expectations         |   Charles Dickens   |  Print   |     5     | Available |     823.8     |     None    |   None   |\n",
       "|    36   |     The Count of Monte Cristo      |   Alexandre Dumas   |  Print   |     1     | Available |     843.7     |     None    |   None   |\n",
       "|    37   |            Frankenstein            |     Mary Shelley    |  Print   |     2     | Available |     823.7     |     None    |   None   |\n",
       "|    38   |              Dracula               |     Bram Stoker     |  Print   |     3     | Available |     823.8     |     None    |   None   |\n",
       "|    39   | The Adventures of Huckleberry Finn |      Mark Twain     |  Print   |     4     | Available |     813.4     |     None    |   None   |\n",
       "|    40   |         The Scarlet Letter         | Nathaniel Hawthorne |  Print   |     5     | Available |     813.3     |     None    |   None   |\n",
       "+---------+------------------------------------+---------------------+----------+-----------+-----------+---------------+-------------+----------+"
      ]
     },
     "execution_count": 221,
     "metadata": {},
     "output_type": "execute_result"
    }
   ],
   "source": [
    "%%sql\n",
    "SELECT * FROM Item"
   ]
  },
  {
   "cell_type": "code",
   "execution_count": 223,
   "id": "60222f7d-f389-4f84-bdc7-212ee7f0e5b9",
   "metadata": {
    "collapsed": true,
    "jupyter": {
     "outputs_hidden": true
    }
   },
   "outputs": [
    {
     "data": {
      "text/html": [
       "<span style=\"None\">Running query in &#x27;sqlite:///library.db&#x27;</span>"
      ],
      "text/plain": [
       "Running query in 'sqlite:///library.db'"
      ]
     },
     "metadata": {},
     "output_type": "display_data"
    },
    {
     "data": {
      "text/html": [
       "<table>\n",
       "    <thead>\n",
       "        <tr>\n",
       "            <th>cust_id</th>\n",
       "            <th>first_name</th>\n",
       "            <th>last_name</th>\n",
       "            <th>email</th>\n",
       "            <th>phone</th>\n",
       "            <th>membership_status</th>\n",
       "        </tr>\n",
       "    </thead>\n",
       "    <tbody>\n",
       "        <tr>\n",
       "            <td>1</td>\n",
       "            <td>John</td>\n",
       "            <td>Doe</td>\n",
       "            <td>john@example.com</td>\n",
       "            <td>555-1001</td>\n",
       "            <td>Suspended</td>\n",
       "        </tr>\n",
       "        <tr>\n",
       "            <td>2</td>\n",
       "            <td>Jane</td>\n",
       "            <td>Smith</td>\n",
       "            <td>jane@example.com</td>\n",
       "            <td>555-1002</td>\n",
       "            <td>Active</td>\n",
       "        </tr>\n",
       "        <tr>\n",
       "            <td>3</td>\n",
       "            <td>Bob</td>\n",
       "            <td>Johnson</td>\n",
       "            <td>bob@example.com</td>\n",
       "            <td>555-1003</td>\n",
       "            <td>Active</td>\n",
       "        </tr>\n",
       "        <tr>\n",
       "            <td>4</td>\n",
       "            <td>Alice</td>\n",
       "            <td>Brown</td>\n",
       "            <td>alice@example.com</td>\n",
       "            <td>555-1004</td>\n",
       "            <td>Suspended</td>\n",
       "        </tr>\n",
       "        <tr>\n",
       "            <td>5</td>\n",
       "            <td>Charlie</td>\n",
       "            <td>Davis</td>\n",
       "            <td>charlie@example.com</td>\n",
       "            <td>555-1005</td>\n",
       "            <td>Suspended</td>\n",
       "        </tr>\n",
       "        <tr>\n",
       "            <td>6</td>\n",
       "            <td>Eve</td>\n",
       "            <td>Wilson</td>\n",
       "            <td>eve@example.com</td>\n",
       "            <td>555-1006</td>\n",
       "            <td>Active</td>\n",
       "        </tr>\n",
       "        <tr>\n",
       "            <td>7</td>\n",
       "            <td>Frank</td>\n",
       "            <td>Moore</td>\n",
       "            <td>frank@example.com</td>\n",
       "            <td>555-1007</td>\n",
       "            <td>Active</td>\n",
       "        </tr>\n",
       "        <tr>\n",
       "            <td>8</td>\n",
       "            <td>Grace</td>\n",
       "            <td>Taylor</td>\n",
       "            <td>grace@example.com</td>\n",
       "            <td>555-1008</td>\n",
       "            <td>Active</td>\n",
       "        </tr>\n",
       "        <tr>\n",
       "            <td>9</td>\n",
       "            <td>Henry</td>\n",
       "            <td>Anderson</td>\n",
       "            <td>henry@example.com</td>\n",
       "            <td>555-1009</td>\n",
       "            <td>Active</td>\n",
       "        </tr>\n",
       "        <tr>\n",
       "            <td>10</td>\n",
       "            <td>Ivy</td>\n",
       "            <td>Thomas</td>\n",
       "            <td>ivy@example.com</td>\n",
       "            <td>555-1010</td>\n",
       "            <td>Active</td>\n",
       "        </tr>\n",
       "    </tbody>\n",
       "</table>"
      ],
      "text/plain": [
       "+---------+------------+-----------+---------------------+----------+-------------------+\n",
       "| cust_id | first_name | last_name |        email        |  phone   | membership_status |\n",
       "+---------+------------+-----------+---------------------+----------+-------------------+\n",
       "|    1    |    John    |    Doe    |   john@example.com  | 555-1001 |     Suspended     |\n",
       "|    2    |    Jane    |   Smith   |   jane@example.com  | 555-1002 |       Active      |\n",
       "|    3    |    Bob     |  Johnson  |   bob@example.com   | 555-1003 |       Active      |\n",
       "|    4    |   Alice    |   Brown   |  alice@example.com  | 555-1004 |     Suspended     |\n",
       "|    5    |  Charlie   |   Davis   | charlie@example.com | 555-1005 |     Suspended     |\n",
       "|    6    |    Eve     |   Wilson  |   eve@example.com   | 555-1006 |       Active      |\n",
       "|    7    |   Frank    |   Moore   |  frank@example.com  | 555-1007 |       Active      |\n",
       "|    8    |   Grace    |   Taylor  |  grace@example.com  | 555-1008 |       Active      |\n",
       "|    9    |   Henry    |  Anderson |  henry@example.com  | 555-1009 |       Active      |\n",
       "|    10   |    Ivy     |   Thomas  |   ivy@example.com   | 555-1010 |       Active      |\n",
       "+---------+------------+-----------+---------------------+----------+-------------------+"
      ]
     },
     "execution_count": 223,
     "metadata": {},
     "output_type": "execute_result"
    }
   ],
   "source": [
    "%%sql\n",
    "SELECT * FROM Customer"
   ]
  },
  {
   "cell_type": "code",
   "execution_count": 239,
   "id": "e186ef8e-e501-4b2f-9b43-f7b59778fad4",
   "metadata": {},
   "outputs": [
    {
     "data": {
      "text/html": [
       "<span style=\"None\">Running query in &#x27;sqlite:///library.db&#x27;</span>"
      ],
      "text/plain": [
       "Running query in 'sqlite:///library.db'"
      ]
     },
     "metadata": {},
     "output_type": "display_data"
    },
    {
     "data": {
      "text/html": [
       "<table>\n",
       "    <thead>\n",
       "        <tr>\n",
       "            <th>fine_id</th>\n",
       "            <th>cust_id</th>\n",
       "            <th>item_id</th>\n",
       "            <th>amount</th>\n",
       "            <th>paid_status</th>\n",
       "            <th>cust_id_1</th>\n",
       "            <th>first_name</th>\n",
       "            <th>last_name</th>\n",
       "            <th>email</th>\n",
       "            <th>phone</th>\n",
       "            <th>membership_status</th>\n",
       "        </tr>\n",
       "    </thead>\n",
       "    <tbody>\n",
       "        <tr>\n",
       "            <td>21</td>\n",
       "            <td>1</td>\n",
       "            <td>1</td>\n",
       "            <td>10.0</td>\n",
       "            <td>0</td>\n",
       "            <td>1</td>\n",
       "            <td>John</td>\n",
       "            <td>Doe</td>\n",
       "            <td>john@example.com</td>\n",
       "            <td>555-1001</td>\n",
       "            <td>Suspended</td>\n",
       "        </tr>\n",
       "        <tr>\n",
       "            <td>22</td>\n",
       "            <td>1</td>\n",
       "            <td>2</td>\n",
       "            <td>10.0</td>\n",
       "            <td>0</td>\n",
       "            <td>1</td>\n",
       "            <td>John</td>\n",
       "            <td>Doe</td>\n",
       "            <td>john@example.com</td>\n",
       "            <td>555-1001</td>\n",
       "            <td>Suspended</td>\n",
       "        </tr>\n",
       "        <tr>\n",
       "            <td>23</td>\n",
       "            <td>1</td>\n",
       "            <td>3</td>\n",
       "            <td>10.0</td>\n",
       "            <td>0</td>\n",
       "            <td>1</td>\n",
       "            <td>John</td>\n",
       "            <td>Doe</td>\n",
       "            <td>john@example.com</td>\n",
       "            <td>555-1001</td>\n",
       "            <td>Suspended</td>\n",
       "        </tr>\n",
       "        <tr>\n",
       "            <td>24</td>\n",
       "            <td>4</td>\n",
       "            <td>4</td>\n",
       "            <td>10.0</td>\n",
       "            <td>0</td>\n",
       "            <td>4</td>\n",
       "            <td>Alice</td>\n",
       "            <td>Brown</td>\n",
       "            <td>alice@example.com</td>\n",
       "            <td>555-1004</td>\n",
       "            <td>Active</td>\n",
       "        </tr>\n",
       "        <tr>\n",
       "            <td>25</td>\n",
       "            <td>5</td>\n",
       "            <td>5</td>\n",
       "            <td>10.0</td>\n",
       "            <td>0</td>\n",
       "            <td>5</td>\n",
       "            <td>Charlie</td>\n",
       "            <td>Davis</td>\n",
       "            <td>charlie@example.com</td>\n",
       "            <td>555-1005</td>\n",
       "            <td>Active</td>\n",
       "        </tr>\n",
       "        <tr>\n",
       "            <td>26</td>\n",
       "            <td>4</td>\n",
       "            <td>6</td>\n",
       "            <td>10.0</td>\n",
       "            <td>0</td>\n",
       "            <td>4</td>\n",
       "            <td>Alice</td>\n",
       "            <td>Brown</td>\n",
       "            <td>alice@example.com</td>\n",
       "            <td>555-1004</td>\n",
       "            <td>Active</td>\n",
       "        </tr>\n",
       "        <tr>\n",
       "            <td>27</td>\n",
       "            <td>5</td>\n",
       "            <td>7</td>\n",
       "            <td>10.0</td>\n",
       "            <td>0</td>\n",
       "            <td>5</td>\n",
       "            <td>Charlie</td>\n",
       "            <td>Davis</td>\n",
       "            <td>charlie@example.com</td>\n",
       "            <td>555-1005</td>\n",
       "            <td>Active</td>\n",
       "        </tr>\n",
       "        <tr>\n",
       "            <td>28</td>\n",
       "            <td>3</td>\n",
       "            <td>8</td>\n",
       "            <td>10.0</td>\n",
       "            <td>0</td>\n",
       "            <td>3</td>\n",
       "            <td>Bob</td>\n",
       "            <td>Johnson</td>\n",
       "            <td>bob@example.com</td>\n",
       "            <td>555-1003</td>\n",
       "            <td>Active</td>\n",
       "        </tr>\n",
       "        <tr>\n",
       "            <td>29</td>\n",
       "            <td>2</td>\n",
       "            <td>9</td>\n",
       "            <td>10.0</td>\n",
       "            <td>0</td>\n",
       "            <td>2</td>\n",
       "            <td>Jane</td>\n",
       "            <td>Smith</td>\n",
       "            <td>jane@example.com</td>\n",
       "            <td>555-1002</td>\n",
       "            <td>Active</td>\n",
       "        </tr>\n",
       "        <tr>\n",
       "            <td>30</td>\n",
       "            <td>7</td>\n",
       "            <td>10</td>\n",
       "            <td>10.0</td>\n",
       "            <td>0</td>\n",
       "            <td>7</td>\n",
       "            <td>Frank</td>\n",
       "            <td>Moore</td>\n",
       "            <td>frank@example.com</td>\n",
       "            <td>555-1007</td>\n",
       "            <td>Active</td>\n",
       "        </tr>\n",
       "    </tbody>\n",
       "</table>"
      ],
      "text/plain": [
       "+---------+---------+---------+--------+-------------+-----------+------------+-----------+---------------------+----------+-------------------+\n",
       "| fine_id | cust_id | item_id | amount | paid_status | cust_id_1 | first_name | last_name |        email        |  phone   | membership_status |\n",
       "+---------+---------+---------+--------+-------------+-----------+------------+-----------+---------------------+----------+-------------------+\n",
       "|    21   |    1    |    1    |  10.0  |      0      |     1     |    John    |    Doe    |   john@example.com  | 555-1001 |     Suspended     |\n",
       "|    22   |    1    |    2    |  10.0  |      0      |     1     |    John    |    Doe    |   john@example.com  | 555-1001 |     Suspended     |\n",
       "|    23   |    1    |    3    |  10.0  |      0      |     1     |    John    |    Doe    |   john@example.com  | 555-1001 |     Suspended     |\n",
       "|    24   |    4    |    4    |  10.0  |      0      |     4     |   Alice    |   Brown   |  alice@example.com  | 555-1004 |       Active      |\n",
       "|    25   |    5    |    5    |  10.0  |      0      |     5     |  Charlie   |   Davis   | charlie@example.com | 555-1005 |       Active      |\n",
       "|    26   |    4    |    6    |  10.0  |      0      |     4     |   Alice    |   Brown   |  alice@example.com  | 555-1004 |       Active      |\n",
       "|    27   |    5    |    7    |  10.0  |      0      |     5     |  Charlie   |   Davis   | charlie@example.com | 555-1005 |       Active      |\n",
       "|    28   |    3    |    8    |  10.0  |      0      |     3     |    Bob     |  Johnson  |   bob@example.com   | 555-1003 |       Active      |\n",
       "|    29   |    2    |    9    |  10.0  |      0      |     2     |    Jane    |   Smith   |   jane@example.com  | 555-1002 |       Active      |\n",
       "|    30   |    7    |    10   |  10.0  |      0      |     7     |   Frank    |   Moore   |  frank@example.com  | 555-1007 |       Active      |\n",
       "+---------+---------+---------+--------+-------------+-----------+------------+-----------+---------------------+----------+-------------------+"
      ]
     },
     "execution_count": 239,
     "metadata": {},
     "output_type": "execute_result"
    }
   ],
   "source": [
    "%%sql\n",
    "SELECT * FROM Fine F LEFT JOIN Customer C ON F.cust_id = C.cust_id"
   ]
  },
  {
   "cell_type": "code",
   "execution_count": 243,
   "id": "6066ea63-ec90-4d41-875a-ffe2f8fa0bbf",
   "metadata": {},
   "outputs": [
    {
     "data": {
      "text/html": [
       "<span style=\"None\">Running query in &#x27;sqlite:///library.db&#x27;</span>"
      ],
      "text/plain": [
       "Running query in 'sqlite:///library.db'"
      ]
     },
     "metadata": {},
     "output_type": "display_data"
    },
    {
     "data": {
      "text/html": [
       "<table>\n",
       "    <thead>\n",
       "        <tr>\n",
       "            <th>cust_id</th>\n",
       "            <th>item_id</th>\n",
       "            <th>item_id_1</th>\n",
       "            <th>title</th>\n",
       "            <th>author</th>\n",
       "            <th>type</th>\n",
       "            <th>branch_id</th>\n",
       "            <th>status</th>\n",
       "            <th>dewey_decimal</th>\n",
       "            <th>borrow_date</th>\n",
       "            <th>due_date</th>\n",
       "            <th>cust_id_1</th>\n",
       "            <th>first_name</th>\n",
       "            <th>last_name</th>\n",
       "            <th>email</th>\n",
       "            <th>phone</th>\n",
       "            <th>membership_status</th>\n",
       "        </tr>\n",
       "    </thead>\n",
       "    <tbody>\n",
       "        <tr>\n",
       "            <td>2</td>\n",
       "            <td>1</td>\n",
       "            <td>1</td>\n",
       "            <td>The Great Novel</td>\n",
       "            <td>Author A</td>\n",
       "            <td>Print</td>\n",
       "            <td>1</td>\n",
       "            <td>Borrowed</td>\n",
       "            <td>123.45</td>\n",
       "            <td>2025-04-02</td>\n",
       "            <td>2025-04-16</td>\n",
       "            <td>2</td>\n",
       "            <td>Jane</td>\n",
       "            <td>Smith</td>\n",
       "            <td>jane@example.com</td>\n",
       "            <td>555-1002</td>\n",
       "            <td>Active</td>\n",
       "        </tr>\n",
       "        <tr>\n",
       "            <td>6</td>\n",
       "            <td>2</td>\n",
       "            <td>2</td>\n",
       "            <td>Science Today</td>\n",
       "            <td>Author B</td>\n",
       "            <td>Magazine</td>\n",
       "            <td>2</td>\n",
       "            <td>Borrowed</td>\n",
       "            <td>234.56</td>\n",
       "            <td>2025-04-02</td>\n",
       "            <td>2025-04-16</td>\n",
       "            <td>6</td>\n",
       "            <td>Eve</td>\n",
       "            <td>Wilson</td>\n",
       "            <td>eve@example.com</td>\n",
       "            <td>555-1006</td>\n",
       "            <td>Active</td>\n",
       "        </tr>\n",
       "        <tr>\n",
       "            <td>5</td>\n",
       "            <td>3</td>\n",
       "            <td>3</td>\n",
       "            <td>History of Time</td>\n",
       "            <td>Author C</td>\n",
       "            <td>Journal</td>\n",
       "            <td>3</td>\n",
       "            <td>Borrowed</td>\n",
       "            <td>345.67</td>\n",
       "            <td>2025-04-02</td>\n",
       "            <td>2025-04-16</td>\n",
       "            <td>5</td>\n",
       "            <td>Charlie</td>\n",
       "            <td>Davis</td>\n",
       "            <td>charlie@example.com</td>\n",
       "            <td>555-1005</td>\n",
       "            <td>Active</td>\n",
       "        </tr>\n",
       "        <tr>\n",
       "            <td>4</td>\n",
       "            <td>4</td>\n",
       "            <td>4</td>\n",
       "            <td>Learn SQL</td>\n",
       "            <td>Author D</td>\n",
       "            <td>Online</td>\n",
       "            <td>4</td>\n",
       "            <td>Borrowed</td>\n",
       "            <td>456.78</td>\n",
       "            <td>2025-04-02</td>\n",
       "            <td>2025-04-16</td>\n",
       "            <td>4</td>\n",
       "            <td>Alice</td>\n",
       "            <td>Brown</td>\n",
       "            <td>alice@example.com</td>\n",
       "            <td>555-1004</td>\n",
       "            <td>Active</td>\n",
       "        </tr>\n",
       "        <tr>\n",
       "            <td>3</td>\n",
       "            <td>5</td>\n",
       "            <td>5</td>\n",
       "            <td>Music Classics</td>\n",
       "            <td>Author E</td>\n",
       "            <td>CD</td>\n",
       "            <td>5</td>\n",
       "            <td>Borrowed</td>\n",
       "            <td>567.89</td>\n",
       "            <td>2025-04-02</td>\n",
       "            <td>2025-04-16</td>\n",
       "            <td>3</td>\n",
       "            <td>Bob</td>\n",
       "            <td>Johnson</td>\n",
       "            <td>bob@example.com</td>\n",
       "            <td>555-1003</td>\n",
       "            <td>Active</td>\n",
       "        </tr>\n",
       "        <tr>\n",
       "            <td>4</td>\n",
       "            <td>6</td>\n",
       "            <td>6</td>\n",
       "            <td>Art of Programming</td>\n",
       "            <td>Author F</td>\n",
       "            <td>Print</td>\n",
       "            <td>1</td>\n",
       "            <td>Borrowed</td>\n",
       "            <td>678.90</td>\n",
       "            <td>2025-04-02</td>\n",
       "            <td>2025-04-16</td>\n",
       "            <td>4</td>\n",
       "            <td>Alice</td>\n",
       "            <td>Brown</td>\n",
       "            <td>alice@example.com</td>\n",
       "            <td>555-1004</td>\n",
       "            <td>Active</td>\n",
       "        </tr>\n",
       "        <tr>\n",
       "            <td>3</td>\n",
       "            <td>7</td>\n",
       "            <td>7</td>\n",
       "            <td>National Geographic</td>\n",
       "            <td>Author G</td>\n",
       "            <td>Magazine</td>\n",
       "            <td>2</td>\n",
       "            <td>Borrowed</td>\n",
       "            <td>789.01</td>\n",
       "            <td>2025-04-02</td>\n",
       "            <td>2025-04-16</td>\n",
       "            <td>3</td>\n",
       "            <td>Bob</td>\n",
       "            <td>Johnson</td>\n",
       "            <td>bob@example.com</td>\n",
       "            <td>555-1003</td>\n",
       "            <td>Active</td>\n",
       "        </tr>\n",
       "        <tr>\n",
       "            <td>5</td>\n",
       "            <td>8</td>\n",
       "            <td>8</td>\n",
       "            <td>Math Basics</td>\n",
       "            <td>Author H</td>\n",
       "            <td>Print</td>\n",
       "            <td>3</td>\n",
       "            <td>Borrowed</td>\n",
       "            <td>890.12</td>\n",
       "            <td>2025-04-02</td>\n",
       "            <td>2025-04-16</td>\n",
       "            <td>5</td>\n",
       "            <td>Charlie</td>\n",
       "            <td>Davis</td>\n",
       "            <td>charlie@example.com</td>\n",
       "            <td>555-1005</td>\n",
       "            <td>Active</td>\n",
       "        </tr>\n",
       "        <tr>\n",
       "            <td>5</td>\n",
       "            <td>9</td>\n",
       "            <td>9</td>\n",
       "            <td>Java Tutorial</td>\n",
       "            <td>Author I</td>\n",
       "            <td>Online</td>\n",
       "            <td>4</td>\n",
       "            <td>Borrowed</td>\n",
       "            <td>901.23</td>\n",
       "            <td>2025-04-02</td>\n",
       "            <td>2025-04-16</td>\n",
       "            <td>5</td>\n",
       "            <td>Charlie</td>\n",
       "            <td>Davis</td>\n",
       "            <td>charlie@example.com</td>\n",
       "            <td>555-1005</td>\n",
       "            <td>Active</td>\n",
       "        </tr>\n",
       "        <tr>\n",
       "            <td>3</td>\n",
       "            <td>10</td>\n",
       "            <td>10</td>\n",
       "            <td>Rock Hits</td>\n",
       "            <td>Author J</td>\n",
       "            <td>Record</td>\n",
       "            <td>5</td>\n",
       "            <td>Borrowed</td>\n",
       "            <td>012.34</td>\n",
       "            <td>2025-04-02</td>\n",
       "            <td>2025-04-16</td>\n",
       "            <td>3</td>\n",
       "            <td>Bob</td>\n",
       "            <td>Johnson</td>\n",
       "            <td>bob@example.com</td>\n",
       "            <td>555-1003</td>\n",
       "            <td>Active</td>\n",
       "        </tr>\n",
       "    </tbody>\n",
       "</table>"
      ],
      "text/plain": [
       "+---------+---------+-----------+---------------------+----------+----------+-----------+----------+---------------+-------------+------------+-----------+------------+-----------+---------------------+----------+-------------------+\n",
       "| cust_id | item_id | item_id_1 |        title        |  author  |   type   | branch_id |  status  | dewey_decimal | borrow_date |  due_date  | cust_id_1 | first_name | last_name |        email        |  phone   | membership_status |\n",
       "+---------+---------+-----------+---------------------+----------+----------+-----------+----------+---------------+-------------+------------+-----------+------------+-----------+---------------------+----------+-------------------+\n",
       "|    2    |    1    |     1     |   The Great Novel   | Author A |  Print   |     1     | Borrowed |     123.45    |  2025-04-02 | 2025-04-16 |     2     |    Jane    |   Smith   |   jane@example.com  | 555-1002 |       Active      |\n",
       "|    6    |    2    |     2     |    Science Today    | Author B | Magazine |     2     | Borrowed |     234.56    |  2025-04-02 | 2025-04-16 |     6     |    Eve     |   Wilson  |   eve@example.com   | 555-1006 |       Active      |\n",
       "|    5    |    3    |     3     |   History of Time   | Author C | Journal  |     3     | Borrowed |     345.67    |  2025-04-02 | 2025-04-16 |     5     |  Charlie   |   Davis   | charlie@example.com | 555-1005 |       Active      |\n",
       "|    4    |    4    |     4     |      Learn SQL      | Author D |  Online  |     4     | Borrowed |     456.78    |  2025-04-02 | 2025-04-16 |     4     |   Alice    |   Brown   |  alice@example.com  | 555-1004 |       Active      |\n",
       "|    3    |    5    |     5     |    Music Classics   | Author E |    CD    |     5     | Borrowed |     567.89    |  2025-04-02 | 2025-04-16 |     3     |    Bob     |  Johnson  |   bob@example.com   | 555-1003 |       Active      |\n",
       "|    4    |    6    |     6     |  Art of Programming | Author F |  Print   |     1     | Borrowed |     678.90    |  2025-04-02 | 2025-04-16 |     4     |   Alice    |   Brown   |  alice@example.com  | 555-1004 |       Active      |\n",
       "|    3    |    7    |     7     | National Geographic | Author G | Magazine |     2     | Borrowed |     789.01    |  2025-04-02 | 2025-04-16 |     3     |    Bob     |  Johnson  |   bob@example.com   | 555-1003 |       Active      |\n",
       "|    5    |    8    |     8     |     Math Basics     | Author H |  Print   |     3     | Borrowed |     890.12    |  2025-04-02 | 2025-04-16 |     5     |  Charlie   |   Davis   | charlie@example.com | 555-1005 |       Active      |\n",
       "|    5    |    9    |     9     |    Java Tutorial    | Author I |  Online  |     4     | Borrowed |     901.23    |  2025-04-02 | 2025-04-16 |     5     |  Charlie   |   Davis   | charlie@example.com | 555-1005 |       Active      |\n",
       "|    3    |    10   |     10    |      Rock Hits      | Author J |  Record  |     5     | Borrowed |     012.34    |  2025-04-02 | 2025-04-16 |     3     |    Bob     |  Johnson  |   bob@example.com   | 555-1003 |       Active      |\n",
       "+---------+---------+-----------+---------------------+----------+----------+-----------+----------+---------------+-------------+------------+-----------+------------+-----------+---------------------+----------+-------------------+"
      ]
     },
     "execution_count": 243,
     "metadata": {},
     "output_type": "execute_result"
    }
   ],
   "source": [
    "%%sql\n",
    "SELECT * FROM Borrowed LEFT JOIN Item ON Borrowed.item_id = Item.item_id LEFT JOIN Customer ON Borrowed.cust_id = Customer.cust_id"
   ]
  },
  {
   "cell_type": "code",
   "execution_count": 245,
   "id": "8eaf57d5-159d-4ba9-bd99-5db09ef2efa8",
   "metadata": {},
   "outputs": [
    {
     "data": {
      "text/html": [
       "<span style=\"None\">Running query in &#x27;sqlite:///library.db&#x27;</span>"
      ],
      "text/plain": [
       "Running query in 'sqlite:///library.db'"
      ]
     },
     "metadata": {},
     "output_type": "display_data"
    },
    {
     "data": {
      "text/html": [
       "<table>\n",
       "    <thead>\n",
       "        <tr>\n",
       "            <th>item_id</th>\n",
       "            <th>title</th>\n",
       "            <th>author</th>\n",
       "            <th>type</th>\n",
       "            <th>branch_id</th>\n",
       "            <th>status</th>\n",
       "            <th>dewey_decimal</th>\n",
       "            <th>borrow_date</th>\n",
       "            <th>due_date</th>\n",
       "        </tr>\n",
       "    </thead>\n",
       "    <tbody>\n",
       "        <tr>\n",
       "            <td>1</td>\n",
       "            <td>The Great Novel</td>\n",
       "            <td>Author A</td>\n",
       "            <td>Print</td>\n",
       "            <td>1</td>\n",
       "            <td>Borrowed</td>\n",
       "            <td>123.45</td>\n",
       "            <td>2025-04-02</td>\n",
       "            <td>2025-04-16</td>\n",
       "        </tr>\n",
       "        <tr>\n",
       "            <td>6</td>\n",
       "            <td>Art of Programming</td>\n",
       "            <td>Author F</td>\n",
       "            <td>Print</td>\n",
       "            <td>1</td>\n",
       "            <td>Borrowed</td>\n",
       "            <td>678.90</td>\n",
       "            <td>2025-04-02</td>\n",
       "            <td>2025-04-16</td>\n",
       "        </tr>\n",
       "        <tr>\n",
       "            <td>11</td>\n",
       "            <td>To Kill a Mockingbird</td>\n",
       "            <td>Harper Lee</td>\n",
       "            <td>Print</td>\n",
       "            <td>1</td>\n",
       "            <td>Available</td>\n",
       "            <td>813.54</td>\n",
       "            <td>None</td>\n",
       "            <td>None</td>\n",
       "        </tr>\n",
       "        <tr>\n",
       "            <td>16</td>\n",
       "            <td>The Catcher in the Rye</td>\n",
       "            <td>J.D. Salinger</td>\n",
       "            <td>Print</td>\n",
       "            <td>1</td>\n",
       "            <td>Available</td>\n",
       "            <td>813.54</td>\n",
       "            <td>None</td>\n",
       "            <td>None</td>\n",
       "        </tr>\n",
       "        <tr>\n",
       "            <td>21</td>\n",
       "            <td>Fahrenheit 451</td>\n",
       "            <td>Ray Bradbury</td>\n",
       "            <td>Print</td>\n",
       "            <td>1</td>\n",
       "            <td>Available</td>\n",
       "            <td>813.54</td>\n",
       "            <td>None</td>\n",
       "            <td>None</td>\n",
       "        </tr>\n",
       "        <tr>\n",
       "            <td>26</td>\n",
       "            <td>Crime and Punishment</td>\n",
       "            <td>Fyodor Dostoevsky</td>\n",
       "            <td>Print</td>\n",
       "            <td>1</td>\n",
       "            <td>Pending</td>\n",
       "            <td>891.73</td>\n",
       "            <td>None</td>\n",
       "            <td>None</td>\n",
       "        </tr>\n",
       "        <tr>\n",
       "            <td>31</td>\n",
       "            <td>Don Quixote</td>\n",
       "            <td>Miguel de Cervantes</td>\n",
       "            <td>Print</td>\n",
       "            <td>1</td>\n",
       "            <td>Available</td>\n",
       "            <td>863</td>\n",
       "            <td>None</td>\n",
       "            <td>None</td>\n",
       "        </tr>\n",
       "        <tr>\n",
       "            <td>36</td>\n",
       "            <td>The Count of Monte Cristo</td>\n",
       "            <td>Alexandre Dumas</td>\n",
       "            <td>Print</td>\n",
       "            <td>1</td>\n",
       "            <td>Available</td>\n",
       "            <td>843.7</td>\n",
       "            <td>None</td>\n",
       "            <td>None</td>\n",
       "        </tr>\n",
       "        <tr>\n",
       "            <td>2</td>\n",
       "            <td>Science Today</td>\n",
       "            <td>Author B</td>\n",
       "            <td>Magazine</td>\n",
       "            <td>2</td>\n",
       "            <td>Borrowed</td>\n",
       "            <td>234.56</td>\n",
       "            <td>2025-04-02</td>\n",
       "            <td>2025-04-16</td>\n",
       "        </tr>\n",
       "        <tr>\n",
       "            <td>7</td>\n",
       "            <td>National Geographic</td>\n",
       "            <td>Author G</td>\n",
       "            <td>Magazine</td>\n",
       "            <td>2</td>\n",
       "            <td>Borrowed</td>\n",
       "            <td>789.01</td>\n",
       "            <td>2025-04-02</td>\n",
       "            <td>2025-04-16</td>\n",
       "        </tr>\n",
       "        <tr>\n",
       "            <td>12</td>\n",
       "            <td>1984</td>\n",
       "            <td>George Orwell</td>\n",
       "            <td>Print</td>\n",
       "            <td>2</td>\n",
       "            <td>Available</td>\n",
       "            <td>823.912</td>\n",
       "            <td>None</td>\n",
       "            <td>None</td>\n",
       "        </tr>\n",
       "        <tr>\n",
       "            <td>17</td>\n",
       "            <td>Animal Farm</td>\n",
       "            <td>George Orwell</td>\n",
       "            <td>Print</td>\n",
       "            <td>2</td>\n",
       "            <td>Available</td>\n",
       "            <td>823.912</td>\n",
       "            <td>None</td>\n",
       "            <td>None</td>\n",
       "        </tr>\n",
       "        <tr>\n",
       "            <td>22</td>\n",
       "            <td>The Grapes of Wrath</td>\n",
       "            <td>John Steinbeck</td>\n",
       "            <td>Print</td>\n",
       "            <td>2</td>\n",
       "            <td>Available</td>\n",
       "            <td>813.52</td>\n",
       "            <td>None</td>\n",
       "            <td>None</td>\n",
       "        </tr>\n",
       "        <tr>\n",
       "            <td>27</td>\n",
       "            <td>The Brothers Karamazov</td>\n",
       "            <td>Fyodor Dostoevsky</td>\n",
       "            <td>Print</td>\n",
       "            <td>2</td>\n",
       "            <td>Pending</td>\n",
       "            <td>891.73</td>\n",
       "            <td>None</td>\n",
       "            <td>None</td>\n",
       "        </tr>\n",
       "        <tr>\n",
       "            <td>32</td>\n",
       "            <td>The Picture of Dorian Gray</td>\n",
       "            <td>Oscar Wilde</td>\n",
       "            <td>Print</td>\n",
       "            <td>2</td>\n",
       "            <td>Available</td>\n",
       "            <td>823.8</td>\n",
       "            <td>None</td>\n",
       "            <td>None</td>\n",
       "        </tr>\n",
       "        <tr>\n",
       "            <td>37</td>\n",
       "            <td>Frankenstein</td>\n",
       "            <td>Mary Shelley</td>\n",
       "            <td>Print</td>\n",
       "            <td>2</td>\n",
       "            <td>Available</td>\n",
       "            <td>823.7</td>\n",
       "            <td>None</td>\n",
       "            <td>None</td>\n",
       "        </tr>\n",
       "        <tr>\n",
       "            <td>3</td>\n",
       "            <td>History of Time</td>\n",
       "            <td>Author C</td>\n",
       "            <td>Journal</td>\n",
       "            <td>3</td>\n",
       "            <td>Borrowed</td>\n",
       "            <td>345.67</td>\n",
       "            <td>2025-04-02</td>\n",
       "            <td>2025-04-16</td>\n",
       "        </tr>\n",
       "        <tr>\n",
       "            <td>8</td>\n",
       "            <td>Math Basics</td>\n",
       "            <td>Author H</td>\n",
       "            <td>Print</td>\n",
       "            <td>3</td>\n",
       "            <td>Borrowed</td>\n",
       "            <td>890.12</td>\n",
       "            <td>2025-04-02</td>\n",
       "            <td>2025-04-16</td>\n",
       "        </tr>\n",
       "        <tr>\n",
       "            <td>13</td>\n",
       "            <td>The Great Gatsby</td>\n",
       "            <td>F. Scott Fitzgerald</td>\n",
       "            <td>Print</td>\n",
       "            <td>3</td>\n",
       "            <td>Available</td>\n",
       "            <td>813.52</td>\n",
       "            <td>None</td>\n",
       "            <td>None</td>\n",
       "        </tr>\n",
       "        <tr>\n",
       "            <td>18</td>\n",
       "            <td>Brave New World</td>\n",
       "            <td>Aldous Huxley</td>\n",
       "            <td>Print</td>\n",
       "            <td>3</td>\n",
       "            <td>Available</td>\n",
       "            <td>823.912</td>\n",
       "            <td>None</td>\n",
       "            <td>None</td>\n",
       "        </tr>\n",
       "        <tr>\n",
       "            <td>23</td>\n",
       "            <td>Moby Dick</td>\n",
       "            <td>Herman Melville</td>\n",
       "            <td>Print</td>\n",
       "            <td>3</td>\n",
       "            <td>Available</td>\n",
       "            <td>813.3</td>\n",
       "            <td>None</td>\n",
       "            <td>None</td>\n",
       "        </tr>\n",
       "        <tr>\n",
       "            <td>28</td>\n",
       "            <td>Anna Karenina</td>\n",
       "            <td>Leo Tolstoy</td>\n",
       "            <td>Print</td>\n",
       "            <td>3</td>\n",
       "            <td>Pending</td>\n",
       "            <td>891.73</td>\n",
       "            <td>None</td>\n",
       "            <td>None</td>\n",
       "        </tr>\n",
       "        <tr>\n",
       "            <td>33</td>\n",
       "            <td>Wuthering Heights</td>\n",
       "            <td>Emily Brontë</td>\n",
       "            <td>Print</td>\n",
       "            <td>3</td>\n",
       "            <td>Available</td>\n",
       "            <td>823.8</td>\n",
       "            <td>None</td>\n",
       "            <td>None</td>\n",
       "        </tr>\n",
       "        <tr>\n",
       "            <td>38</td>\n",
       "            <td>Dracula</td>\n",
       "            <td>Bram Stoker</td>\n",
       "            <td>Print</td>\n",
       "            <td>3</td>\n",
       "            <td>Available</td>\n",
       "            <td>823.8</td>\n",
       "            <td>None</td>\n",
       "            <td>None</td>\n",
       "        </tr>\n",
       "        <tr>\n",
       "            <td>4</td>\n",
       "            <td>Learn SQL</td>\n",
       "            <td>Author D</td>\n",
       "            <td>Online</td>\n",
       "            <td>4</td>\n",
       "            <td>Borrowed</td>\n",
       "            <td>456.78</td>\n",
       "            <td>2025-04-02</td>\n",
       "            <td>2025-04-16</td>\n",
       "        </tr>\n",
       "        <tr>\n",
       "            <td>9</td>\n",
       "            <td>Java Tutorial</td>\n",
       "            <td>Author I</td>\n",
       "            <td>Online</td>\n",
       "            <td>4</td>\n",
       "            <td>Borrowed</td>\n",
       "            <td>901.23</td>\n",
       "            <td>2025-04-02</td>\n",
       "            <td>2025-04-16</td>\n",
       "        </tr>\n",
       "        <tr>\n",
       "            <td>14</td>\n",
       "            <td>Pride and Prejudice</td>\n",
       "            <td>Jane Austen</td>\n",
       "            <td>Print</td>\n",
       "            <td>4</td>\n",
       "            <td>Available</td>\n",
       "            <td>823.7</td>\n",
       "            <td>None</td>\n",
       "            <td>None</td>\n",
       "        </tr>\n",
       "        <tr>\n",
       "            <td>19</td>\n",
       "            <td>The Lord of the Rings</td>\n",
       "            <td>J.R.R. Tolkien</td>\n",
       "            <td>Print</td>\n",
       "            <td>4</td>\n",
       "            <td>Available</td>\n",
       "            <td>823.912</td>\n",
       "            <td>None</td>\n",
       "            <td>None</td>\n",
       "        </tr>\n",
       "        <tr>\n",
       "            <td>24</td>\n",
       "            <td>War and Peace</td>\n",
       "            <td>Leo Tolstoy</td>\n",
       "            <td>Print</td>\n",
       "            <td>4</td>\n",
       "            <td>Available</td>\n",
       "            <td>891.73</td>\n",
       "            <td>None</td>\n",
       "            <td>None</td>\n",
       "        </tr>\n",
       "        <tr>\n",
       "            <td>29</td>\n",
       "            <td>The Divine Comedy</td>\n",
       "            <td>Dante Alighieri</td>\n",
       "            <td>Print</td>\n",
       "            <td>4</td>\n",
       "            <td>Pending</td>\n",
       "            <td>851.1</td>\n",
       "            <td>None</td>\n",
       "            <td>None</td>\n",
       "        </tr>\n",
       "        <tr>\n",
       "            <td>34</td>\n",
       "            <td>Jane Eyre</td>\n",
       "            <td>Charlotte Brontë</td>\n",
       "            <td>Print</td>\n",
       "            <td>4</td>\n",
       "            <td>Available</td>\n",
       "            <td>823.8</td>\n",
       "            <td>None</td>\n",
       "            <td>None</td>\n",
       "        </tr>\n",
       "        <tr>\n",
       "            <td>39</td>\n",
       "            <td>The Adventures of Huckleberry Finn</td>\n",
       "            <td>Mark Twain</td>\n",
       "            <td>Print</td>\n",
       "            <td>4</td>\n",
       "            <td>Available</td>\n",
       "            <td>813.4</td>\n",
       "            <td>None</td>\n",
       "            <td>None</td>\n",
       "        </tr>\n",
       "        <tr>\n",
       "            <td>5</td>\n",
       "            <td>Music Classics</td>\n",
       "            <td>Author E</td>\n",
       "            <td>CD</td>\n",
       "            <td>5</td>\n",
       "            <td>Borrowed</td>\n",
       "            <td>567.89</td>\n",
       "            <td>2025-04-02</td>\n",
       "            <td>2025-04-16</td>\n",
       "        </tr>\n",
       "        <tr>\n",
       "            <td>10</td>\n",
       "            <td>Rock Hits</td>\n",
       "            <td>Author J</td>\n",
       "            <td>Record</td>\n",
       "            <td>5</td>\n",
       "            <td>Borrowed</td>\n",
       "            <td>012.34</td>\n",
       "            <td>2025-04-02</td>\n",
       "            <td>2025-04-16</td>\n",
       "        </tr>\n",
       "        <tr>\n",
       "            <td>15</td>\n",
       "            <td>The Hobbit</td>\n",
       "            <td>J.R.R. Tolkien</td>\n",
       "            <td>Print</td>\n",
       "            <td>5</td>\n",
       "            <td>Available</td>\n",
       "            <td>823.912</td>\n",
       "            <td>None</td>\n",
       "            <td>None</td>\n",
       "        </tr>\n",
       "        <tr>\n",
       "            <td>20</td>\n",
       "            <td>The Chronicles of Narnia</td>\n",
       "            <td>C.S. Lewis</td>\n",
       "            <td>Print</td>\n",
       "            <td>5</td>\n",
       "            <td>Available</td>\n",
       "            <td>823.912</td>\n",
       "            <td>None</td>\n",
       "            <td>None</td>\n",
       "        </tr>\n",
       "        <tr>\n",
       "            <td>25</td>\n",
       "            <td>The Odyssey</td>\n",
       "            <td>Homer</td>\n",
       "            <td>Print</td>\n",
       "            <td>5</td>\n",
       "            <td>Available</td>\n",
       "            <td>883.01</td>\n",
       "            <td>None</td>\n",
       "            <td>None</td>\n",
       "        </tr>\n",
       "        <tr>\n",
       "            <td>30</td>\n",
       "            <td>Les Misérables</td>\n",
       "            <td>Victor Hugo</td>\n",
       "            <td>Print</td>\n",
       "            <td>5</td>\n",
       "            <td>Pending</td>\n",
       "            <td>843.7</td>\n",
       "            <td>None</td>\n",
       "            <td>None</td>\n",
       "        </tr>\n",
       "        <tr>\n",
       "            <td>35</td>\n",
       "            <td>Great Expectations</td>\n",
       "            <td>Charles Dickens</td>\n",
       "            <td>Print</td>\n",
       "            <td>5</td>\n",
       "            <td>Available</td>\n",
       "            <td>823.8</td>\n",
       "            <td>None</td>\n",
       "            <td>None</td>\n",
       "        </tr>\n",
       "        <tr>\n",
       "            <td>40</td>\n",
       "            <td>The Scarlet Letter</td>\n",
       "            <td>Nathaniel Hawthorne</td>\n",
       "            <td>Print</td>\n",
       "            <td>5</td>\n",
       "            <td>Available</td>\n",
       "            <td>813.3</td>\n",
       "            <td>None</td>\n",
       "            <td>None</td>\n",
       "        </tr>\n",
       "    </tbody>\n",
       "</table>"
      ],
      "text/plain": [
       "+---------+------------------------------------+---------------------+----------+-----------+-----------+---------------+-------------+------------+\n",
       "| item_id |               title                |        author       |   type   | branch_id |   status  | dewey_decimal | borrow_date |  due_date  |\n",
       "+---------+------------------------------------+---------------------+----------+-----------+-----------+---------------+-------------+------------+\n",
       "|    1    |          The Great Novel           |       Author A      |  Print   |     1     |  Borrowed |     123.45    |  2025-04-02 | 2025-04-16 |\n",
       "|    6    |         Art of Programming         |       Author F      |  Print   |     1     |  Borrowed |     678.90    |  2025-04-02 | 2025-04-16 |\n",
       "|    11   |       To Kill a Mockingbird        |      Harper Lee     |  Print   |     1     | Available |     813.54    |     None    |    None    |\n",
       "|    16   |       The Catcher in the Rye       |    J.D. Salinger    |  Print   |     1     | Available |     813.54    |     None    |    None    |\n",
       "|    21   |           Fahrenheit 451           |     Ray Bradbury    |  Print   |     1     | Available |     813.54    |     None    |    None    |\n",
       "|    26   |        Crime and Punishment        |  Fyodor Dostoevsky  |  Print   |     1     |  Pending  |     891.73    |     None    |    None    |\n",
       "|    31   |            Don Quixote             | Miguel de Cervantes |  Print   |     1     | Available |      863      |     None    |    None    |\n",
       "|    36   |     The Count of Monte Cristo      |   Alexandre Dumas   |  Print   |     1     | Available |     843.7     |     None    |    None    |\n",
       "|    2    |           Science Today            |       Author B      | Magazine |     2     |  Borrowed |     234.56    |  2025-04-02 | 2025-04-16 |\n",
       "|    7    |        National Geographic         |       Author G      | Magazine |     2     |  Borrowed |     789.01    |  2025-04-02 | 2025-04-16 |\n",
       "|    12   |                1984                |    George Orwell    |  Print   |     2     | Available |    823.912    |     None    |    None    |\n",
       "|    17   |            Animal Farm             |    George Orwell    |  Print   |     2     | Available |    823.912    |     None    |    None    |\n",
       "|    22   |        The Grapes of Wrath         |    John Steinbeck   |  Print   |     2     | Available |     813.52    |     None    |    None    |\n",
       "|    27   |       The Brothers Karamazov       |  Fyodor Dostoevsky  |  Print   |     2     |  Pending  |     891.73    |     None    |    None    |\n",
       "|    32   |     The Picture of Dorian Gray     |     Oscar Wilde     |  Print   |     2     | Available |     823.8     |     None    |    None    |\n",
       "|    37   |            Frankenstein            |     Mary Shelley    |  Print   |     2     | Available |     823.7     |     None    |    None    |\n",
       "|    3    |          History of Time           |       Author C      | Journal  |     3     |  Borrowed |     345.67    |  2025-04-02 | 2025-04-16 |\n",
       "|    8    |            Math Basics             |       Author H      |  Print   |     3     |  Borrowed |     890.12    |  2025-04-02 | 2025-04-16 |\n",
       "|    13   |          The Great Gatsby          | F. Scott Fitzgerald |  Print   |     3     | Available |     813.52    |     None    |    None    |\n",
       "|    18   |          Brave New World           |    Aldous Huxley    |  Print   |     3     | Available |    823.912    |     None    |    None    |\n",
       "|    23   |             Moby Dick              |   Herman Melville   |  Print   |     3     | Available |     813.3     |     None    |    None    |\n",
       "|    28   |           Anna Karenina            |     Leo Tolstoy     |  Print   |     3     |  Pending  |     891.73    |     None    |    None    |\n",
       "|    33   |         Wuthering Heights          |     Emily Brontë    |  Print   |     3     | Available |     823.8     |     None    |    None    |\n",
       "|    38   |              Dracula               |     Bram Stoker     |  Print   |     3     | Available |     823.8     |     None    |    None    |\n",
       "|    4    |             Learn SQL              |       Author D      |  Online  |     4     |  Borrowed |     456.78    |  2025-04-02 | 2025-04-16 |\n",
       "|    9    |           Java Tutorial            |       Author I      |  Online  |     4     |  Borrowed |     901.23    |  2025-04-02 | 2025-04-16 |\n",
       "|    14   |        Pride and Prejudice         |     Jane Austen     |  Print   |     4     | Available |     823.7     |     None    |    None    |\n",
       "|    19   |       The Lord of the Rings        |    J.R.R. Tolkien   |  Print   |     4     | Available |    823.912    |     None    |    None    |\n",
       "|    24   |           War and Peace            |     Leo Tolstoy     |  Print   |     4     | Available |     891.73    |     None    |    None    |\n",
       "|    29   |         The Divine Comedy          |   Dante Alighieri   |  Print   |     4     |  Pending  |     851.1     |     None    |    None    |\n",
       "|    34   |             Jane Eyre              |   Charlotte Brontë  |  Print   |     4     | Available |     823.8     |     None    |    None    |\n",
       "|    39   | The Adventures of Huckleberry Finn |      Mark Twain     |  Print   |     4     | Available |     813.4     |     None    |    None    |\n",
       "|    5    |           Music Classics           |       Author E      |    CD    |     5     |  Borrowed |     567.89    |  2025-04-02 | 2025-04-16 |\n",
       "|    10   |             Rock Hits              |       Author J      |  Record  |     5     |  Borrowed |     012.34    |  2025-04-02 | 2025-04-16 |\n",
       "|    15   |             The Hobbit             |    J.R.R. Tolkien   |  Print   |     5     | Available |    823.912    |     None    |    None    |\n",
       "|    20   |      The Chronicles of Narnia      |      C.S. Lewis     |  Print   |     5     | Available |    823.912    |     None    |    None    |\n",
       "|    25   |            The Odyssey             |        Homer        |  Print   |     5     | Available |     883.01    |     None    |    None    |\n",
       "|    30   |           Les Misérables           |     Victor Hugo     |  Print   |     5     |  Pending  |     843.7     |     None    |    None    |\n",
       "|    35   |         Great Expectations         |   Charles Dickens   |  Print   |     5     | Available |     823.8     |     None    |    None    |\n",
       "|    40   |         The Scarlet Letter         | Nathaniel Hawthorne |  Print   |     5     | Available |     813.3     |     None    |    None    |\n",
       "+---------+------------------------------------+---------------------+----------+-----------+-----------+---------------+-------------+------------+"
      ]
     },
     "execution_count": 245,
     "metadata": {},
     "output_type": "execute_result"
    }
   ],
   "source": [
    "%%sql\n",
    "SELECT * FROM Item ORDER BY branch_id"
   ]
  },
  {
   "cell_type": "code",
   "execution_count": 229,
   "id": "7be8658f-819e-4ca2-9205-4f76a568dcbf",
   "metadata": {},
   "outputs": [
    {
     "data": {
      "text/html": [
       "<span style=\"None\">Running query in &#x27;sqlite:///library.db&#x27;</span>"
      ],
      "text/plain": [
       "Running query in 'sqlite:///library.db'"
      ]
     },
     "metadata": {},
     "output_type": "display_data"
    },
    {
     "data": {
      "text/html": [
       "<table>\n",
       "    <thead>\n",
       "        <tr>\n",
       "        </tr>\n",
       "    </thead>\n",
       "    <tbody>\n",
       "    </tbody>\n",
       "</table>"
      ],
      "text/plain": [
       "++\n",
       "||\n",
       "++\n",
       "++"
      ]
     },
     "execution_count": 229,
     "metadata": {},
     "output_type": "execute_result"
    }
   ],
   "source": []
  }
 ],
 "metadata": {
  "kernelspec": {
   "display_name": "Python [conda env:base] *",
   "language": "python",
   "name": "conda-base-py"
  },
  "language_info": {
   "codemirror_mode": {
    "name": "ipython",
    "version": 3
   },
   "file_extension": ".py",
   "mimetype": "text/x-python",
   "name": "python",
   "nbconvert_exporter": "python",
   "pygments_lexer": "ipython3",
   "version": "3.12.3"
  }
 },
 "nbformat": 4,
 "nbformat_minor": 5
}
